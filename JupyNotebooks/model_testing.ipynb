{
 "cells": [
  {
   "cell_type": "code",
   "execution_count": null,
   "id": "41073330-f7ac-40e8-a1e7-57bd073f7836",
   "metadata": {},
   "outputs": [],
   "source": [
    "#import ario3.mriosystem as mrio_sys\n",
    "import pathlib\n",
    "import numpy as np\n",
    "import pymrio as pym\n",
    "import pandas as pd\n",
    "import pickle\n",
    "\n",
    "params = { \"storage_dir\": \"BigScaleTest\",\n",
    "            \"results_storage\": \"results\",\n",
    "            \"bool_run_detailled\": True,\n",
    "            \"register_stocks\": True,\n",
    "            \"psi_param\": 0.8,\n",
    "            \"model_time_step\": 1,\n",
    "            \"timestep_dividing_factor\": 100,\n",
    "            \"inventory_restoration_time\": 30,\n",
    "            \"alpha_base\": 1.0,\n",
    "            \"alpha_max\": 1.25,\n",
    "            \"alpha_tau\": 100,\n",
    "            \"rebuild_tau\": 30,\n",
    "            \"n_timesteps\": 365,\n",
    "            \"min_duration\": (365 // 100) * 25,\n",
    "            \"impacted_region_base_production_toward_rebuilding\": 0.005,\n",
    "            \"row_base_production_toward_rebuilding\": 0.0,\n",
    "            \"mrio_params_file\":\"/home/sjuhel/Nextcloud/Thesis/Workbench/Code/ARIO3/BigScaleTest/mrio_params.json\"\n",
    "}\n"
   ]
  },
  {
   "cell_type": "code",
   "execution_count": null,
   "id": "8f78ba39-fd8c-4b96-9764-26dc887b1e4d",
   "metadata": {},
   "outputs": [],
   "source": [
    "exio3 = pym.parse_exiobase3(path='./../../../Data/IOT_2019_ixi.zip')\n"
   ]
  },
  {
   "cell_type": "code",
   "execution_count": 1,
   "id": "2b150417-6442-4326-861b-5814fbe8944b",
   "metadata": {},
   "outputs": [],
   "source": []
  },
  {
   "cell_type": "code",
   "execution_count": 2,
   "id": "ee163cd3-c879-4656-ad7a-f6d61b147cc3",
   "metadata": {},
   "outputs": [
    {
     "name": "stdout",
     "output_type": "stream",
     "text": [
      "Description: EXIOBASE3 metadata file for pymrio\n",
      "MRIO Name: EXIO3\n",
      "System: ixi\n",
      "Version: 10.5281/zenodo.3583070\n",
      "File: ../../../Data/Données_SocioEco/Tableaux/EXIO_TABLES/metadata.json\n",
      "History:\n",
      "20220214 14:28:38 - FILEIO -  Downloaded https://zenodo.org/record/5589597/files/IOT_2011_ixi.zip to IOT_2011_ixi.zip\n"
     ]
    }
   ],
   "source": [
    "print(exio_meta)"
   ]
  },
  {
   "cell_type": "code",
   "execution_count": null,
   "id": "bf16274e-8ecf-408c-8895-bca4c11e1576",
   "metadata": {},
   "outputs": [],
   "source": [
    "np.unique(exio3.get_sectors())"
   ]
  },
  {
   "cell_type": "code",
   "execution_count": 91,
   "id": "f82fd517-2ddb-4528-8919-23134bf43479",
   "metadata": {},
   "outputs": [
    {
     "data": {
      "text/plain": [
       "(75, 163)"
      ]
     },
     "execution_count": 91,
     "metadata": {},
     "output_type": "execute_result"
    }
   ],
   "source": [
    "sec_agg_matrix = pd.read_excel(\"./../../../Data/Données_SocioEco/Tableaux/aggreg EXIO.ods\", sheet_name=\"input\", engine=\"odf\", header=None).to_numpy()\n",
    "sec_agg_matrix.shape"
   ]
  },
  {
   "cell_type": "code",
   "execution_count": null,
   "id": "35c5b23a-a65e-4dfa-b07f-dbc5e4a9d09c",
   "metadata": {
    "jupyter": {
     "source_hidden": true
    },
    "tags": []
   },
   "outputs": [],
   "source": [
    "exio3.aggregate(sector_agg=sec_agg_matrix)\n",
    "exio3.rename_sectors(\n",
    "    {\n",
    "    \"sec0\": \"Cultivation in general\",\n",
    "    \"sec1\": \"Animal farming\",\n",
    "    \"sec2\": \"Milk, Animal products nec\",\n",
    "    \"sec3\": \"Wool, silk-worm cocoons\",\n",
    "    \"sec4\": \"Manure treatment, storage and land application\",\n",
    "    \"sec5\": \"Forestry, logging and related service activities (02)\",\n",
    "    \"sec6\": \"Fishing, operating of fish hatcheries and fish farms; service activities incidental to fishing (05)\",\n",
    "    \"sec7\": \"Mining of coal and lignite; extraction of peat (10)\",\n",
    "    \"sec8\": \"Extraction of crude petroleum, gas and other\",\n",
    "    \"sec9\": \"Mining of uranium and thorium ores (12)\",\n",
    "    \"sec10\": \"Mining of iron ores\",\n",
    "    \"sec11\": \"Mining of copper ores and concentrates\",\n",
    "    \"sec12\": \"Mining of nickel ores and concentrates\",\n",
    "    \"sec13\": \"Mining of aluminium ores and concentrates\",\n",
    "    \"sec14\": \"Mining of precious metal ores and concentrates\",\n",
    "    \"sec15\": \"Mining of lead, zinc and tin ores and concentrates\",\n",
    "    \"sec16\": \"Mining of other non-ferrous metal ores and concentrates\",\n",
    "    \"sec17\": \"Quarrying\",\n",
    "    \"sec18\": \"Processing of meat products\",\n",
    "    \"sec19\": \"Processing of food products nec\",\n",
    "    \"sec20\": \"Manufacture of tobacco products (16)\",\n",
    "    \"sec21\": \"Manufacture of textile and wearing apparel (17,18)\",\n",
    "    \"sec22\": \"Manufacture of wood and of products of wood and cork, except furniture; manufacture of articles of straw and plaiting materials (20)\",\n",
    "    \"sec23\": \"Paper\",\n",
    "    \"sec24\": \"Publishing, printing and reproduction of recorded media (22)\",\n",
    "    \"sec25\": \"Manufacture of coke oven products\",\n",
    "    \"sec26\": \"Petroleum Refinery\",\n",
    "    \"sec27\": \"Processing of nuclear fuel\",\n",
    "    \"sec28\": \"Plastics, basic\",\n",
    "    \"sec29\": \"Fertilisers\",\n",
    "    \"sec30\": \"Chemicals nec\",\n",
    "    \"sec31\": \"Manufacture of rubber and plastic products (25)\",\n",
    "    \"sec32\": \"Manufacture of glass and glass products\",\n",
    "    \"sec33\": \"Manufacture of ceramic goods\",\n",
    "    \"sec34\": \"Manufacture of construction products and cement\",\n",
    "    \"sec35\": \"Manufacture of other non-metallic mineral products n.e.c.\",\n",
    "    \"sec36\": \"Manufacture of basic iron and steel and of ferro-alloys and first products thereof\",\n",
    "    \"sec37\": \"Precious metals production\",\n",
    "    \"sec38\": \"Aluminium production\",\n",
    "    \"sec39\": \"Lead, zinc and tin production\",\n",
    "    \"sec40\": \"Copper production\",\n",
    "    \"sec41\": \"Other non-ferrous metal production\",\n",
    "    \"sec42\": \"Casting of metals\",\n",
    "    \"sec43\": \"Manufacture of fabricated metal products, except machinery and equipment (28)\",\n",
    "    \"sec44\": \"Manufacture of machinery and equipment n.e.c. (29)\",\n",
    "    \"sec45\": \"Manufacture of office machinery and computers (30)\",\n",
    "    \"sec46\": \"Manufacture of electrical machinery and apparatus n.e.c. (31)\",\n",
    "    \"sec47\": \"Manufacture of medical, precision and optical instruments, watches and clocks (33)\",\n",
    "    \"sec48\": \"Manufacture of transport equipment (34,35)\",\n",
    "    \"sec49\": \"Manufacture of furniture; manufacturing n.e.c. (36)\",\n",
    "    \"sec50\": \"Recycling of waste and scrap\",\n",
    "    \"sec51\": \"Production of electricity\",\n",
    "    \"sec52\": \"Transmission and distribution of electricity\",\n",
    "    \"sec53\": \"Manufacture of gas; distribution of gaseous fuels through mains\",\n",
    "    \"sec54\": \"Collection, purification and distribution of water (41)\",\n",
    "    \"sec55\": \"Construction (45)\",\n",
    "    \"sec56\": \"Sale, maintenance, repair of motor vehicles, motor vehicles parts, motorcycles, motor cycles parts and accessoiries\",\n",
    "    \"sec57\": \"Retail sale of automotive fuel\",\n",
    "    \"sec58\": \"Wholesale trade and commission trade, except of motor vehicles and motorcycles (51)\",\n",
    "    \"sec59\": \"Retail trade, except of motor vehicles and motorcycles; repair of personal and household goods (52)\",\n",
    "    \"sec60\": \"Hotels and restaurants (55)\",\n",
    "    \"sec61\": \"Transport via railways\",\n",
    "    \"sec62\": \"Other land transport\",\n",
    "    \"sec63\": \"Transport via pipelines\",\n",
    "    \"sec64\": \"Sea and coastal water transport\",\n",
    "    \"sec65\": \"Inland water transport\",\n",
    "    \"sec66\": \"Air transport (62)\",\n",
    "    \"sec67\": \"Supporting and auxiliary transport activities; activities of travel agencies (63)\",\n",
    "    \"sec68\": \"Post and telecommunications (64)\",\n",
    "    \"sec69\": \"Financial intermediation, insurance and pension funding (65)\",\n",
    "    \"sec70\": \"Renting of machinery and equipment without operator and of personal and household goods (71)\",\n",
    "    \"sec71\": \"Other business activities (74)\",\n",
    "    \"sec72\": \"Public administration and defence; compulsory social security, Education and Health (75,80,85)\",\n",
    "    \"sec73\": \"Waste disposal\",\n",
    "    \"sec74\": \"Other (91,92,93,95)\"\n",
    "    }\n",
    ")\n",
    "\n",
    "exio3.calc_all()"
   ]
  },
  {
   "cell_type": "code",
   "execution_count": null,
   "id": "23ea0c86-404d-4a55-8be1-12f5b1a26b31",
   "metadata": {
    "jupyter": {
     "source_hidden": true
    },
    "tags": []
   },
   "outputs": [],
   "source": [
    "import pickle as pkl\n",
    "import datetime\n",
    "with open(\"./../../../Data/Données_SocioEco/Tableaux/exio_ixi_2019_\"+datetime.datetime.now().strftime(\"%Y%m%d-%H%M%S\")+\".pkl\", 'wb') as f:\n",
    "\tpkl.dump(exio3, f)"
   ]
  },
  {
   "cell_type": "code",
   "execution_count": null,
   "id": "47bfd940-4cc1-4556-a042-5f880a761f99",
   "metadata": {},
   "outputs": [],
   "source": []
  },
  {
   "cell_type": "code",
   "execution_count": null,
   "id": "a6b5f336-a9c4-4353-945f-0b9275e93e9d",
   "metadata": {},
   "outputs": [],
   "source": [
    "exio3.get_sectors()"
   ]
  },
  {
   "cell_type": "code",
   "execution_count": null,
   "id": "87089f75-6ee3-42c8-8599-ddc49aab0053",
   "metadata": {},
   "outputs": [],
   "source": [
    "import matplotlib.pyplot as plt\n",
    "\n",
    "plt.figure(figsize=(25,25))\n",
    "plt.imshow(exio3.A, vmax=1E-3)\n",
    "plt.xlabel('Countries - sectors')\n",
    "plt.ylabel('Countries - sectors')\n",
    "plt.show()"
   ]
  },
  {
   "cell_type": "code",
   "execution_count": 93,
   "id": "89683da2-86c4-455b-8185-576833071465",
   "metadata": {
    "jupyter": {
     "source_hidden": true
    },
    "tags": []
   },
   "outputs": [],
   "source": [
    "import json\n",
    "params = { \n",
    "            \"results_storage\": \"results\",\n",
    "            \"bool_run_detailled\": True,\n",
    "            \"register_stocks\": True,\n",
    "            \"psi_param\": 0.9,\n",
    "            \"model_time_step\": 1,\n",
    "            \"timestep_dividing_factor\": 100,\n",
    "            \"inventory_restoration_time\": 40,\n",
    "            \"alpha_base\": 1.0,\n",
    "            \"alpha_max\": 1.25,\n",
    "            \"alpha_tau\": 365,\n",
    "            \"rebuild_tau\": 90,\n",
    "            \"n_timesteps\": 100,\n",
    "            \"min_duration\": 25,\n",
    "            \"impacted_region_base_production_toward_rebuilding\": 0.002,\n",
    "            \"row_base_production_toward_rebuilding\": 0.0,\n",
    "            \"mrio_params_file\":\"/home/sjuhel/Nextcloud/Thesis/Workbench/Data/BigScaleTest/mrio_params.json\"\n",
    "}\n",
    "\n",
    "event_template = {\n",
    "        \"aff-regions\": [\n",
    "            \"FR\"\n",
    "        ],\n",
    "        \"aff-sectors\": [\n",
    "            'Mining of coal and lignite; extraction of peat (10)',\n",
    "            'Extraction of crude petroleum and services related to crude oil extraction, excluding surveying',\n",
    "            'Extraction of natural gas and services related to natural gas extraction, excluding surveying',\n",
    "            'Extraction, liquefaction, and regasification of other petroleum and gaseous materials',\n",
    "            'Mining of uranium and thorium ores (12)',\n",
    "            'Mining of iron ores',\n",
    "            'Mining of copper ores and concentrates',\n",
    "            'Mining of nickel ores and concentrates',\n",
    "            'Mining of aluminium ores and concentrates',\n",
    "            'Mining of precious metal ores and concentrates',\n",
    "            'Mining of lead, zinc and tin ores and concentrates',\n",
    "            'Mining of other non-ferrous metal ores and concentrates', \n",
    "            'Quarrying',\n",
    "            'Manufacture of textiles (17)',\n",
    "            'Manufacture of wearing apparel; dressing and dyeing of fur (18)',\n",
    "            'Manufacture of wood and of products of wood and cork, except furniture; manufacture of articles of straw and plaiting materials (20)',\n",
    "            'Manufacture of coke oven products',\n",
    "            'Petroleum Refinery',\n",
    "            'Processing of nuclear fuel',\n",
    "            'Plastics, basic',\n",
    "            'Fertilisers',\n",
    "            'Chemicals nec',\n",
    "            'Manufacture of rubber and plastic products (25)',\n",
    "            'Manufacture of glass and glass products',\n",
    "            'Manufacture of ceramic goods',\n",
    "            'Manufacture of construction products and cement',\n",
    "            'Manufacture of other non-metallic mineral products n.e.c.',\n",
    "            'Manufacture of basic iron and steel and of ferro-alloys and first products thereof',\n",
    "            'Precious metals production', \n",
    "            'Aluminium production',\n",
    "            'Lead, zinc and tin production', \n",
    "            'Copper production',\n",
    "            'Other non-ferrous metal production',\n",
    "            'Casting of metals',\n",
    "            'Manufacture of fabricated metal products, except machinery and equipment (28)',\n",
    "            'Manufacture of machinery and equipment n.e.c. (29)',\n",
    "            'Manufacture of office machinery and computers (30)',\n",
    "            'Manufacture of electrical machinery and apparatus n.e.c. (31)',\n",
    "            'Manufacture of medical, precision and optical instruments, watches and clocks (33)',\n",
    "            'Manufacture of transport equipment (34,35)',\n",
    "            'Manufacture of furniture; manufacturing n.e.c. (36)',\n",
    "            'Recycling of waste and scrap',\n",
    "            'Transmission and distribution of electricity',\n",
    "            'Transport via railways',\n",
    "            'Other land transport',\n",
    "            'Post and telecommunications (64)'\n",
    "        ],\n",
    "        \"dmg-distrib-regions\": [\n",
    "            1\n",
    "        ],\n",
    "        \"dmg-distrib-sectors-type\": \"gdp\",\n",
    "        \"dmg-distrib-sectors\": [],\n",
    "        \"duration\": 1,\n",
    "        \"name\": \"0\",\n",
    "        \"occur\": 5,\n",
    "        \"q_dmg\": 100000000,\n",
    "        \"rebuilding-sectors\": {\n",
    "            'Public administration and defence; compulsory social security (75)':0.24, # public services\n",
    "            \"Construction (45)\":0.24,\n",
    "            'Manufacture of wood and of products of wood and cork, except furniture; manufacture of articles of straw and plaiting materials (20)':0.05,\n",
    "            'Manufacture of construction products and cement':0.05,\n",
    "            \"Manufacture of office machinery and computers (30)\": 0.023,\n",
    "            'Other land transport':0.046,\n",
    "            'Manufacture of electrical machinery and apparatus n.e.c. (31)':0.08,\n",
    "            'Financial intermediation, insurance and pension funding (65)':0.024, # real estate\n",
    "            \"Manufacture of furniture; manufacturing n.e.c. (36)\" : 0.06,\n",
    "            'Manufacture of textiles (17)': 0.006,\n",
    "            'Manufacture of wearing apparel; dressing and dyeing of fur (18)':0.005,\n",
    "            \"Manufacture of machinery and equipment n.e.c. (29)\" : 0.01,\n",
    "            'Chemicals nec': 0.005,\n",
    "            'Retail sale of automotive fuel': 0.005,\n",
    "            'Processing of food products nec': 0.003,\n",
    "            'Manufacture of ceramic goods':0.0009,\n",
    "            \"Manufacture of medical, precision and optical instruments, watches and clocks (33)\": 0.002,\n",
    "            \"Cultivation nec\": 0.00005,\n",
    "            \"Animal farming\": 0.00005,                      \n",
    "            \"Sale, maintenance, repair of motor vehicles, motor vehicles parts, motorcycles, motor cycles parts and accessoiries\": 0.05,\n",
    "            \"Retail trade, except of motor vehicles and motorcycles; repair of personal and household goods (52)\" : 0.05,\n",
    "            \"Wholesale trade and commission trade, except of motor vehicles and motorcycles (51)\": 0.05\n",
    "        }\n",
    "    }\n",
    "\n",
    "\n",
    "\n",
    "with pathlib.Path(\"../other/params_test_\"+datetime.datetime.now().strftime(\"%Y%m%d\")+\".json\").open('w') as f:\n",
    "    json.dump(params, f, indent=4)\n",
    "    \n",
    "with pathlib.Path(\"../other/event_test_\"+datetime.datetime.now().strftime(\"%Y%m%d\")+\".json\").open('w') as f:\n",
    "    json.dump(event_template, f, indent=4)"
   ]
  },
  {
   "cell_type": "code",
   "execution_count": null,
   "id": "4de34223-5665-47e0-b31e-022f63bbf039",
   "metadata": {},
   "outputs": [],
   "source": [
    "display(exio3.unit)\n",
    "display(exio3.x.query(\"\"\"region == 'FR' & sector=='Cultivation of wheat' \"\"\")*1000000)"
   ]
  },
  {
   "cell_type": "code",
   "execution_count": null,
   "id": "dcb8cce8-6860-4d01-a397-2b1f522c097f",
   "metadata": {
    "jupyter": {
     "source_hidden": true
    },
    "tags": []
   },
   "outputs": [],
   "source": [
    "import pandas as pd\n",
    "data = {\"Building damage\" : 4300000000,\n",
    "        \"Furniture damage\" :4000000000,\n",
    "        \"Industrial equipment damage\" : 500000000,\n",
    "        \"Industrial product damage\" : 400000000,\n",
    "        \"Shop and company equipment damage\" : 1000000000,\n",
    "        \"Shop and company product damage\": 140000000,\n",
    "        \"Agricultural machine damage\": 1700000,\n",
    "        \"Agricultural product damage\" :770000,\n",
    "        \"public facility damage\" :7000000000\n",
    "       }\n",
    "\n",
    "data_2 = {\"type\": [k for k,v in data.items()], \"value\": [v for k,v in data.items()]}\n",
    "\n",
    "df = pd.DataFrame.from_dict(data_2)\n",
    "df = df.set_index(\"type\")"
   ]
  },
  {
   "cell_type": "code",
   "execution_count": null,
   "id": "4ebcdf41-95ee-49ef-88ce-d398261d40bd",
   "metadata": {},
   "outputs": [],
   "source": [
    "df['pct'] = df['value'] / df['value'].sum()\n"
   ]
  },
  {
   "cell_type": "code",
   "execution_count": null,
   "id": "6ce44e88-2c50-4d85-b45c-139b0b600b1b",
   "metadata": {
    "jupyter": {
     "source_hidden": true
    },
    "tags": []
   },
   "outputs": [],
   "source": [
    "df['construction'] = 0\n",
    "df['Lumber, wood products'] = 0\n",
    "df['Electronic component'] = 0\n",
    "df['Transportation'] = 0\n",
    "df['Communication and electronic component'] = 0\n",
    "df['General machinery'] = 0\n",
    "df['Electrical machinery'] = 0\n",
    "df['Information, communication machinery'] = 0\n",
    "df['Office supply'] = 0\n",
    "df['Clothing and textile'] = 0\n",
    "df['Chemical products'] = 0\n",
    "df['Petroleum and coal'] = 0\n",
    "df['Ceramic stone and clay'] = 0\n",
    "df['Food products and beverages'] = 0\n",
    "df['Trading'] = 0\n",
    "df['Other manufacturing'] = 0\n",
    "df['Agricultural'] = 0\n",
    "df['Livestock'] = 0\n",
    "df['Public work'] = 0\n",
    "df.columns"
   ]
  },
  {
   "cell_type": "code",
   "execution_count": null,
   "id": "0285a5c2-8ff0-4e20-a2aa-2b83079c4162",
   "metadata": {
    "jupyter": {
     "source_hidden": true
    },
    "tags": []
   },
   "outputs": [],
   "source": [
    "df.loc[\"Building damage\",\"construction\"] = 0.9\n",
    "df.loc[\"Building damage\",\"real estate\"] = 0.1\n",
    "\n",
    "df.loc[\"Furniture damage\",\"Lumber, wood products\"] = 0.4\n",
    "df.loc[\"Furniture damage\",\"Electronic component\"] = 0.3\n",
    "df.loc[\"Furniture damage\",\"Transportation\"] = 0.2\n",
    "df.loc[\"Furniture damage\",\"Communication and electronic component\"] = 0.1\n",
    "\n",
    "df.loc[\"Industrial equipment damage\",\"General machinery\"] = 0.3\n",
    "df.loc[\"Industrial equipment damage\",\"Electrical machinery\"] = 0.3\n",
    "df.loc[\"Industrial equipment damage\",\"Information, communication machinery\"] = 0.3\n",
    "df.loc[\"Industrial equipment damage\",\"Office supply\"] = 0.1\n",
    "\n",
    "df.loc[\"Industrial product damage\",\"Clothing and textile\"] = 0.3\n",
    "df.loc[\"Industrial product damage\",\"Chemical products\"] = 0.3\n",
    "df.loc[\"Industrial product damage\",\"Petroleum and coal\"] = 0.3\n",
    "df.loc[\"Industrial product damage\",\"Ceramic stone and clay\"] = 0.1\n",
    "\n",
    "df.loc[\"Shop and company equipment damage\",\"Lumber, wood products\"] = 0.4\n",
    "df.loc[\"Shop and company equipment damage\",\"Electrical machinery\"] = 0.4\n",
    "df.loc[\"Shop and company equipment damage\",\"Office supply\"] = 0.2\n",
    "\n",
    "df.loc[\"Shop and company product damage\",\"Food products and beverages\"] = 0.4\n",
    "df.loc[\"Shop and company product damage\",\"Clothing and textile\"] = 0.4\n",
    "df.loc[\"Shop and company product damage\",\"Trading\"] = 0.2\n",
    "\n",
    "df.loc[\"Agricultural machine damage\",\"General machinery\"] = 0.4\n",
    "df.loc[\"Agricultural machine damage\",\"Information, communication machinery\"] = 0.3\n",
    "df.loc[\"Agricultural machine damage\",\"Other manufacturing\"] = 0.3\n",
    "\n",
    "df.loc[\"Agricultural product damage\",\"Agricultural\"] = 0.4\n",
    "df.loc[\"Agricultural product damage\",\"Livestock\"] = 0.4\n",
    "df.loc[\"Agricultural product damage\",\"Food products and beverages\"] = 0.2\n",
    "\n",
    "df.loc[\"public facility damage\",\"Public work\"] = 1.0\n",
    "df"
   ]
  },
  {
   "cell_type": "code",
   "execution_count": null,
   "id": "8e013fb2-6af4-472d-9037-d06ebaf90be6",
   "metadata": {
    "jupyter": {
     "source_hidden": true
    },
    "tags": []
   },
   "outputs": [],
   "source": [
    "df.loc[:,\"construction\":] = df.loc[:,\"construction\":].apply(lambda col : col*df['pct'], axis=0)\n",
    "df"
   ]
  },
  {
   "cell_type": "code",
   "execution_count": null,
   "id": "143cff3a-8693-4417-a31b-e6e8a85275d3",
   "metadata": {},
   "outputs": [],
   "source": [
    "tmp = df.sum()\n",
    "tmp.iloc[2:].sort_values()"
   ]
  },
  {
   "cell_type": "code",
   "execution_count": null,
   "id": "58d38f79-301a-4b8c-a5e3-eb858396e9f7",
   "metadata": {},
   "outputs": [],
   "source": []
  },
  {
   "cell_type": "code",
   "execution_count": null,
   "id": "6b207252-6e19-4d10-806b-458cb760dd91",
   "metadata": {},
   "outputs": [],
   "source": [
    "rebuilding_sectors= {\n",
    "            'Public administration and defence; compulsory social security (75)':0.24, # public services\n",
    "            \"Construction (45)\":0.24,\n",
    "            'Manufacture of wood and of products of wood and cork, except furniture; manufacture of articles of straw and plaiting materials (20)':0.05,\n",
    "            'Manufacture of construction products and cement':0.05,\n",
    "            \"Manufacture of office machinery and computers (30)\": 0.023,\n",
    "            'Other land transport':0.046,\n",
    "            'Manufacture of electrical machinery and apparatus n.e.c. (31)':0.08,\n",
    "            'Financial intermediation, insurance and pension funding (65)':0.024, # real estate\n",
    "            \"Manufacture of furniture; manufacturing n.e.c. (36)\" : 0.06,\n",
    "            'Manufacture of textiles (17)': 0.006,\n",
    "            'Manufacture of wearing apparel; dressing and dyeing of fur (18)':0.005,\n",
    "            \"Manufacture of machinery and equipment n.e.c. (29)\" : 0.01,\n",
    "            'Chemicals nec': 0.005,\n",
    "            'Retail sale of automotive fuel': 0.005,\n",
    "            'Processing of food products nec': 0.003,\n",
    "            'Manufacture of ceramic goods':0.0009,\n",
    "            \"Manufacture of medical, precision and optical instruments, watches and clocks (33)\": 0.002,\n",
    "            \"Cultivation nec\": 0.00005,\n",
    "            \"Animal farming\": 0.00005,                      \n",
    "            \"Sale, maintenance, repair of motor vehicles, motor vehicles parts, motorcycles, motor cycles parts and accessoiries\": 0.05,\n",
    "            \"Retail trade, except of motor vehicles and motorcycles; repair of personal and household goods (52)\" : 0.05,\n",
    "            \"Wholesale trade and commission trade, except of motor vehicles and motorcycles (51)\": 0.05\n",
    "        }\n",
    "\n",
    "l = list(rebuilding_sectors.values())\n",
    "a = np.array(l)\n",
    "a.sum()"
   ]
  },
  {
   "cell_type": "code",
   "execution_count": 6,
   "id": "2f571084-8012-4804-bb60-0aee7f14cb7a",
   "metadata": {},
   "outputs": [
    {
     "ename": "NameError",
     "evalue": "name 'io' is not defined",
     "output_type": "error",
     "traceback": [
      "\u001b[0;31m---------------------------------------------------------------------------\u001b[0m",
      "\u001b[0;31mNameError\u001b[0m                                 Traceback (most recent call last)",
      "\u001b[0;32m/tmp/ipykernel_94154/834980814.py\u001b[0m in \u001b[0;36m<module>\u001b[0;34m\u001b[0m\n\u001b[1;32m      8\u001b[0m \u001b[0mexio3\u001b[0m \u001b[0;34m=\u001b[0m \u001b[0mpym\u001b[0m\u001b[0;34m.\u001b[0m\u001b[0mparse_exiobase3\u001b[0m\u001b[0;34m(\u001b[0m\u001b[0mpath\u001b[0m\u001b[0;34m=\u001b[0m\u001b[0;34m'./../../../Data/Données_SocioEco/Tableaux/EXIO_TABLES/IOT_2011_ixi.zip'\u001b[0m\u001b[0;34m)\u001b[0m\u001b[0;34m\u001b[0m\u001b[0;34m\u001b[0m\u001b[0m\n\u001b[1;32m      9\u001b[0m \u001b[0;34m\u001b[0m\u001b[0m\n\u001b[0;32m---> 10\u001b[0;31m reg_agg_coco = coco.agg_conc(original_countries=io.get_regions(),\n\u001b[0m\u001b[1;32m     11\u001b[0m                              \u001b[0maggregates\u001b[0m\u001b[0;34m=\u001b[0m\u001b[0;34m{\u001b[0m\u001b[0;34m'JP'\u001b[0m\u001b[0;34m:\u001b[0m \u001b[0;34m'JAPAN'\u001b[0m\u001b[0;34m}\u001b[0m\u001b[0;34m,\u001b[0m\u001b[0;34m\u001b[0m\u001b[0;34m\u001b[0m\u001b[0m\n\u001b[1;32m     12\u001b[0m                              missing_countries='Rest of the world')\n",
      "\u001b[0;31mNameError\u001b[0m: name 'io' is not defined"
     ]
    }
   ],
   "source": [
    "### JAPAN TEST\n",
    "import country_converter as coco\n",
    "import pymrio as pym\n",
    "exio3_folder = \"./../../../Data/Données_SocioEco/Tableaux/EXIO_TABLES/\"\n",
    "exio_meta = pym.download_exiobase3(\n",
    "    storage_folder=exio3_folder, system=\"ixi\", years=[2011]\n",
    ")\n",
    "\n",
    "\n"
   ]
  },
  {
   "cell_type": "code",
   "execution_count": null,
   "id": "f3cb8056-d8ec-4347-a0d8-022be38d2b05",
   "metadata": {},
   "outputs": [],
   "source": []
  },
  {
   "cell_type": "code",
   "execution_count": 9,
   "id": "b73d09dd-75d6-4fe2-ac0d-8245f38dbb38",
   "metadata": {},
   "outputs": [
    {
     "ename": "KeyboardInterrupt",
     "evalue": "",
     "output_type": "error",
     "traceback": [
      "\u001b[0;31m---------------------------------------------------------------------------\u001b[0m",
      "\u001b[0;31mKeyboardInterrupt\u001b[0m                         Traceback (most recent call last)",
      "\u001b[0;32m/tmp/ipykernel_224630/3682389929.py\u001b[0m in \u001b[0;36m<module>\u001b[0;34m\u001b[0m\n\u001b[1;32m     29\u001b[0m         \u001b[0mpkl\u001b[0m\u001b[0;34m.\u001b[0m\u001b[0mdump\u001b[0m\u001b[0;34m(\u001b[0m\u001b[0mexio3\u001b[0m\u001b[0;34m,\u001b[0m \u001b[0mf\u001b[0m\u001b[0;34m)\u001b[0m\u001b[0;34m\u001b[0m\u001b[0;34m\u001b[0m\u001b[0m\n\u001b[1;32m     30\u001b[0m \u001b[0;34m\u001b[0m\u001b[0m\n\u001b[0;32m---> 31\u001b[0;31m \u001b[0mexio3\u001b[0m \u001b[0;34m=\u001b[0m \u001b[0mpym\u001b[0m\u001b[0;34m.\u001b[0m\u001b[0mparse_exiobase3\u001b[0m\u001b[0;34m(\u001b[0m\u001b[0mpath\u001b[0m\u001b[0;34m=\u001b[0m\u001b[0;34m'./../../../Data/Données_SocioEco/Tableaux/EXIO_TABLES/IOT_2011_ixi.zip'\u001b[0m\u001b[0;34m)\u001b[0m\u001b[0;34m\u001b[0m\u001b[0;34m\u001b[0m\u001b[0m\n\u001b[0m\u001b[1;32m     32\u001b[0m reg_agg_coco = coco.agg_conc(original_countries=exio3.get_regions(),\n\u001b[1;32m     33\u001b[0m                              \u001b[0maggregates\u001b[0m\u001b[0;34m=\u001b[0m\u001b[0;34m{\u001b[0m\u001b[0;34m'JP'\u001b[0m\u001b[0;34m:\u001b[0m \u001b[0;34m'JAPAN'\u001b[0m\u001b[0;34m}\u001b[0m\u001b[0;34m,\u001b[0m\u001b[0;34m\u001b[0m\u001b[0;34m\u001b[0m\u001b[0m\n",
      "\u001b[0;32m~/anaconda3/envs/ario3/lib/python3.8/site-packages/pymrio/tools/ioparser.py\u001b[0m in \u001b[0;36mparse_exiobase3\u001b[0;34m(path)\u001b[0m\n\u001b[1;32m    702\u001b[0m \u001b[0;34m\u001b[0m\u001b[0m\n\u001b[1;32m    703\u001b[0m     \"\"\"\n\u001b[0;32m--> 704\u001b[0;31m     \u001b[0mio\u001b[0m \u001b[0;34m=\u001b[0m \u001b[0mload_all\u001b[0m\u001b[0;34m(\u001b[0m\u001b[0mpath\u001b[0m\u001b[0;34m)\u001b[0m\u001b[0;34m\u001b[0m\u001b[0;34m\u001b[0m\u001b[0m\n\u001b[0m\u001b[1;32m    705\u001b[0m     \u001b[0;31m# need to rename the final demand satellite,\u001b[0m\u001b[0;34m\u001b[0m\u001b[0;34m\u001b[0m\u001b[0;34m\u001b[0m\u001b[0m\n\u001b[1;32m    706\u001b[0m     \u001b[0;31m# wrong name in the standard distribution\u001b[0m\u001b[0;34m\u001b[0m\u001b[0;34m\u001b[0m\u001b[0;34m\u001b[0m\u001b[0m\n",
      "\u001b[0;32m~/anaconda3/envs/ario3/lib/python3.8/site-packages/pymrio/core/fileio.py\u001b[0m in \u001b[0;36mload_all\u001b[0;34m(path, include_core, subfolders, path_in_arc)\u001b[0m\n\u001b[1;32m    160\u001b[0m \u001b[0;34m\u001b[0m\u001b[0m\n\u001b[1;32m    161\u001b[0m             \u001b[0;32mif\u001b[0m \u001b[0msubfolder_full_meta\u001b[0m \u001b[0;32min\u001b[0m \u001b[0mzipcontent\u001b[0m\u001b[0;34m:\u001b[0m\u001b[0;34m\u001b[0m\u001b[0;34m\u001b[0m\u001b[0m\n\u001b[0;32m--> 162\u001b[0;31m                 ext = load(\n\u001b[0m\u001b[1;32m    163\u001b[0m                     \u001b[0mpath\u001b[0m\u001b[0;34m,\u001b[0m \u001b[0minclude_core\u001b[0m\u001b[0;34m=\u001b[0m\u001b[0minclude_core\u001b[0m\u001b[0;34m,\u001b[0m \u001b[0mpath_in_arc\u001b[0m\u001b[0;34m=\u001b[0m\u001b[0msubfolder_full_meta\u001b[0m\u001b[0;34m\u001b[0m\u001b[0;34m\u001b[0m\u001b[0m\n\u001b[1;32m    164\u001b[0m                 )\n",
      "\u001b[0;32m~/anaconda3/envs/ario3/lib/python3.8/site-packages/pymrio/core/fileio.py\u001b[0m in \u001b[0;36mload\u001b[0;34m(path, include_core, path_in_arc)\u001b[0m\n\u001b[1;32m    308\u001b[0m                         \u001b[0mret_system\u001b[0m\u001b[0;34m,\u001b[0m\u001b[0;34m\u001b[0m\u001b[0;34m\u001b[0m\u001b[0m\n\u001b[1;32m    309\u001b[0m                         \u001b[0mkey\u001b[0m\u001b[0;34m,\u001b[0m\u001b[0;34m\u001b[0m\u001b[0;34m\u001b[0m\u001b[0m\n\u001b[0;32m--> 310\u001b[0;31m                         pd.read_csv(\n\u001b[0m\u001b[1;32m    311\u001b[0m                             \u001b[0mzf\u001b[0m\u001b[0;34m.\u001b[0m\u001b[0mopen\u001b[0m\u001b[0;34m(\u001b[0m\u001b[0mfull_file_name\u001b[0m\u001b[0;34m)\u001b[0m\u001b[0;34m,\u001b[0m\u001b[0;34m\u001b[0m\u001b[0;34m\u001b[0m\u001b[0m\n\u001b[1;32m    312\u001b[0m                             \u001b[0mindex_col\u001b[0m\u001b[0;34m=\u001b[0m\u001b[0m_index_col\u001b[0m\u001b[0;34m,\u001b[0m\u001b[0;34m\u001b[0m\u001b[0;34m\u001b[0m\u001b[0m\n",
      "\u001b[0;32m~/anaconda3/envs/ario3/lib/python3.8/site-packages/pandas/util/_decorators.py\u001b[0m in \u001b[0;36mwrapper\u001b[0;34m(*args, **kwargs)\u001b[0m\n\u001b[1;32m    309\u001b[0m                     \u001b[0mstacklevel\u001b[0m\u001b[0;34m=\u001b[0m\u001b[0mstacklevel\u001b[0m\u001b[0;34m,\u001b[0m\u001b[0;34m\u001b[0m\u001b[0;34m\u001b[0m\u001b[0m\n\u001b[1;32m    310\u001b[0m                 )\n\u001b[0;32m--> 311\u001b[0;31m             \u001b[0;32mreturn\u001b[0m \u001b[0mfunc\u001b[0m\u001b[0;34m(\u001b[0m\u001b[0;34m*\u001b[0m\u001b[0margs\u001b[0m\u001b[0;34m,\u001b[0m \u001b[0;34m**\u001b[0m\u001b[0mkwargs\u001b[0m\u001b[0;34m)\u001b[0m\u001b[0;34m\u001b[0m\u001b[0;34m\u001b[0m\u001b[0m\n\u001b[0m\u001b[1;32m    312\u001b[0m \u001b[0;34m\u001b[0m\u001b[0m\n\u001b[1;32m    313\u001b[0m         \u001b[0;32mreturn\u001b[0m \u001b[0mwrapper\u001b[0m\u001b[0;34m\u001b[0m\u001b[0;34m\u001b[0m\u001b[0m\n",
      "\u001b[0;32m~/anaconda3/envs/ario3/lib/python3.8/site-packages/pandas/io/parsers/readers.py\u001b[0m in \u001b[0;36mread_csv\u001b[0;34m(filepath_or_buffer, sep, delimiter, header, names, index_col, usecols, squeeze, prefix, mangle_dupe_cols, dtype, engine, converters, true_values, false_values, skipinitialspace, skiprows, skipfooter, nrows, na_values, keep_default_na, na_filter, verbose, skip_blank_lines, parse_dates, infer_datetime_format, keep_date_col, date_parser, dayfirst, cache_dates, iterator, chunksize, compression, thousands, decimal, lineterminator, quotechar, quoting, doublequote, escapechar, comment, encoding, encoding_errors, dialect, error_bad_lines, warn_bad_lines, on_bad_lines, delim_whitespace, low_memory, memory_map, float_precision, storage_options)\u001b[0m\n\u001b[1;32m    584\u001b[0m     \u001b[0mkwds\u001b[0m\u001b[0;34m.\u001b[0m\u001b[0mupdate\u001b[0m\u001b[0;34m(\u001b[0m\u001b[0mkwds_defaults\u001b[0m\u001b[0;34m)\u001b[0m\u001b[0;34m\u001b[0m\u001b[0;34m\u001b[0m\u001b[0m\n\u001b[1;32m    585\u001b[0m \u001b[0;34m\u001b[0m\u001b[0m\n\u001b[0;32m--> 586\u001b[0;31m     \u001b[0;32mreturn\u001b[0m \u001b[0m_read\u001b[0m\u001b[0;34m(\u001b[0m\u001b[0mfilepath_or_buffer\u001b[0m\u001b[0;34m,\u001b[0m \u001b[0mkwds\u001b[0m\u001b[0;34m)\u001b[0m\u001b[0;34m\u001b[0m\u001b[0;34m\u001b[0m\u001b[0m\n\u001b[0m\u001b[1;32m    587\u001b[0m \u001b[0;34m\u001b[0m\u001b[0m\n\u001b[1;32m    588\u001b[0m \u001b[0;34m\u001b[0m\u001b[0m\n",
      "\u001b[0;32m~/anaconda3/envs/ario3/lib/python3.8/site-packages/pandas/io/parsers/readers.py\u001b[0m in \u001b[0;36m_read\u001b[0;34m(filepath_or_buffer, kwds)\u001b[0m\n\u001b[1;32m    486\u001b[0m \u001b[0;34m\u001b[0m\u001b[0m\n\u001b[1;32m    487\u001b[0m     \u001b[0;32mwith\u001b[0m \u001b[0mparser\u001b[0m\u001b[0;34m:\u001b[0m\u001b[0;34m\u001b[0m\u001b[0;34m\u001b[0m\u001b[0m\n\u001b[0;32m--> 488\u001b[0;31m         \u001b[0;32mreturn\u001b[0m \u001b[0mparser\u001b[0m\u001b[0;34m.\u001b[0m\u001b[0mread\u001b[0m\u001b[0;34m(\u001b[0m\u001b[0mnrows\u001b[0m\u001b[0;34m)\u001b[0m\u001b[0;34m\u001b[0m\u001b[0;34m\u001b[0m\u001b[0m\n\u001b[0m\u001b[1;32m    489\u001b[0m \u001b[0;34m\u001b[0m\u001b[0m\n\u001b[1;32m    490\u001b[0m \u001b[0;34m\u001b[0m\u001b[0m\n",
      "\u001b[0;32m~/anaconda3/envs/ario3/lib/python3.8/site-packages/pandas/io/parsers/readers.py\u001b[0m in \u001b[0;36mread\u001b[0;34m(self, nrows)\u001b[0m\n\u001b[1;32m   1045\u001b[0m     \u001b[0;32mdef\u001b[0m \u001b[0mread\u001b[0m\u001b[0;34m(\u001b[0m\u001b[0mself\u001b[0m\u001b[0;34m,\u001b[0m \u001b[0mnrows\u001b[0m\u001b[0;34m=\u001b[0m\u001b[0;32mNone\u001b[0m\u001b[0;34m)\u001b[0m\u001b[0;34m:\u001b[0m\u001b[0;34m\u001b[0m\u001b[0;34m\u001b[0m\u001b[0m\n\u001b[1;32m   1046\u001b[0m         \u001b[0mnrows\u001b[0m \u001b[0;34m=\u001b[0m \u001b[0mvalidate_integer\u001b[0m\u001b[0;34m(\u001b[0m\u001b[0;34m\"nrows\"\u001b[0m\u001b[0;34m,\u001b[0m \u001b[0mnrows\u001b[0m\u001b[0;34m)\u001b[0m\u001b[0;34m\u001b[0m\u001b[0;34m\u001b[0m\u001b[0m\n\u001b[0;32m-> 1047\u001b[0;31m         \u001b[0mindex\u001b[0m\u001b[0;34m,\u001b[0m \u001b[0mcolumns\u001b[0m\u001b[0;34m,\u001b[0m \u001b[0mcol_dict\u001b[0m \u001b[0;34m=\u001b[0m \u001b[0mself\u001b[0m\u001b[0;34m.\u001b[0m\u001b[0m_engine\u001b[0m\u001b[0;34m.\u001b[0m\u001b[0mread\u001b[0m\u001b[0;34m(\u001b[0m\u001b[0mnrows\u001b[0m\u001b[0;34m)\u001b[0m\u001b[0;34m\u001b[0m\u001b[0;34m\u001b[0m\u001b[0m\n\u001b[0m\u001b[1;32m   1048\u001b[0m \u001b[0;34m\u001b[0m\u001b[0m\n\u001b[1;32m   1049\u001b[0m         \u001b[0;32mif\u001b[0m \u001b[0mindex\u001b[0m \u001b[0;32mis\u001b[0m \u001b[0;32mNone\u001b[0m\u001b[0;34m:\u001b[0m\u001b[0;34m\u001b[0m\u001b[0;34m\u001b[0m\u001b[0m\n",
      "\u001b[0;32m~/anaconda3/envs/ario3/lib/python3.8/site-packages/pandas/io/parsers/c_parser_wrapper.py\u001b[0m in \u001b[0;36mread\u001b[0;34m(self, nrows)\u001b[0m\n\u001b[1;32m    222\u001b[0m         \u001b[0;32mtry\u001b[0m\u001b[0;34m:\u001b[0m\u001b[0;34m\u001b[0m\u001b[0;34m\u001b[0m\u001b[0m\n\u001b[1;32m    223\u001b[0m             \u001b[0;32mif\u001b[0m \u001b[0mself\u001b[0m\u001b[0;34m.\u001b[0m\u001b[0mlow_memory\u001b[0m\u001b[0;34m:\u001b[0m\u001b[0;34m\u001b[0m\u001b[0;34m\u001b[0m\u001b[0m\n\u001b[0;32m--> 224\u001b[0;31m                 \u001b[0mchunks\u001b[0m \u001b[0;34m=\u001b[0m \u001b[0mself\u001b[0m\u001b[0;34m.\u001b[0m\u001b[0m_reader\u001b[0m\u001b[0;34m.\u001b[0m\u001b[0mread_low_memory\u001b[0m\u001b[0;34m(\u001b[0m\u001b[0mnrows\u001b[0m\u001b[0;34m)\u001b[0m\u001b[0;34m\u001b[0m\u001b[0;34m\u001b[0m\u001b[0m\n\u001b[0m\u001b[1;32m    225\u001b[0m                 \u001b[0;31m# destructive to chunks\u001b[0m\u001b[0;34m\u001b[0m\u001b[0;34m\u001b[0m\u001b[0;34m\u001b[0m\u001b[0m\n\u001b[1;32m    226\u001b[0m                 \u001b[0mdata\u001b[0m \u001b[0;34m=\u001b[0m \u001b[0m_concatenate_chunks\u001b[0m\u001b[0;34m(\u001b[0m\u001b[0mchunks\u001b[0m\u001b[0;34m)\u001b[0m\u001b[0;34m\u001b[0m\u001b[0;34m\u001b[0m\u001b[0m\n",
      "\u001b[0;32m~/anaconda3/envs/ario3/lib/python3.8/site-packages/pandas/_libs/parsers.pyx\u001b[0m in \u001b[0;36mpandas._libs.parsers.TextReader.read_low_memory\u001b[0;34m()\u001b[0m\n",
      "\u001b[0;32m~/anaconda3/envs/ario3/lib/python3.8/site-packages/pandas/_libs/parsers.pyx\u001b[0m in \u001b[0;36mpandas._libs.parsers.TextReader._read_rows\u001b[0;34m()\u001b[0m\n",
      "\u001b[0;32m~/anaconda3/envs/ario3/lib/python3.8/site-packages/pandas/_libs/parsers.pyx\u001b[0m in \u001b[0;36mpandas._libs.parsers.TextReader._convert_column_data\u001b[0;34m()\u001b[0m\n",
      "\u001b[0;32m~/anaconda3/envs/ario3/lib/python3.8/site-packages/pandas/_libs/parsers.pyx\u001b[0m in \u001b[0;36mpandas._libs.parsers.TextReader._convert_tokens\u001b[0;34m()\u001b[0m\n",
      "\u001b[0;32m~/anaconda3/envs/ario3/lib/python3.8/site-packages/pandas/_libs/parsers.pyx\u001b[0m in \u001b[0;36mpandas._libs.parsers.TextReader._convert_with_dtype\u001b[0;34m()\u001b[0m\n",
      "\u001b[0;32m~/anaconda3/envs/ario3/lib/python3.8/site-packages/pandas/core/dtypes/common.py\u001b[0m in \u001b[0;36mis_extension_array_dtype\u001b[0;34m(arr_or_dtype)\u001b[0m\n\u001b[1;32m   1418\u001b[0m \u001b[0;34m\u001b[0m\u001b[0m\n\u001b[1;32m   1419\u001b[0m \u001b[0;34m\u001b[0m\u001b[0m\n\u001b[0;32m-> 1420\u001b[0;31m \u001b[0;32mdef\u001b[0m \u001b[0mis_extension_array_dtype\u001b[0m\u001b[0;34m(\u001b[0m\u001b[0marr_or_dtype\u001b[0m\u001b[0;34m)\u001b[0m \u001b[0;34m->\u001b[0m \u001b[0mbool\u001b[0m\u001b[0;34m:\u001b[0m\u001b[0;34m\u001b[0m\u001b[0;34m\u001b[0m\u001b[0m\n\u001b[0m\u001b[1;32m   1421\u001b[0m     \"\"\"\n\u001b[1;32m   1422\u001b[0m     \u001b[0mCheck\u001b[0m \u001b[0;32mif\u001b[0m \u001b[0man\u001b[0m \u001b[0mobject\u001b[0m \u001b[0;32mis\u001b[0m \u001b[0ma\u001b[0m \u001b[0mpandas\u001b[0m \u001b[0mextension\u001b[0m \u001b[0marray\u001b[0m \u001b[0mtype\u001b[0m\u001b[0;34m.\u001b[0m\u001b[0;34m\u001b[0m\u001b[0;34m\u001b[0m\u001b[0m\n",
      "\u001b[0;31mKeyboardInterrupt\u001b[0m: "
     ]
    }
   ],
   "source": [
    "#import ario3.mriosystem as mrio_sys\n",
    "import pathlib\n",
    "import pymrio as pym\n",
    "import pandas as pd\n",
    "import pickle as pkl\n",
    "import logging\n",
    "import sys\n",
    "import datetime\n",
    "import argparse\n",
    "import json\n",
    "\n",
    "def aggreg(exio3, aggreg_path, sectors_name_path, save_path=None, reg):\n",
    "    rootLogger.info(\"Computing the IO components\")\n",
    "    exio3.calc_all()\n",
    "    rootLogger.info(\"Done\")\n",
    "    rootLogger.info(\"Reading aggregation matrix from sheet 'input' in file {}\".format(pathlib.Path(aggreg_path).absolute()))\n",
    "    sec_agg_matrix = pd.read_excel(aggreg_path, sheet_name=\"input\", engine=\"odf\", header=None).to_numpy()\n",
    "    rootLogger.info(\"Aggregating from {} to {} sectors\".format(len(exio3.get_sectors()), sec_agg_matrix.shape[0]))\n",
    "    exio3.aggregate(sector_agg=sec_agg_matrix)\n",
    "    rootLogger.info(\"Done\")\n",
    "    rootLogger.info(\"Renaming sectors from {}\".format(pathlib.Path(sectors_name_path).absolute()))\n",
    "    with pathlib.Path(sectors_name_path).open('r') as f:\n",
    "        a = json.load(f)\n",
    "    exio3.rename_sectors(a)\n",
    "    rootLogger.info(\"Done\")\n",
    "    name = save_path+\"_\"+datetime.datetime.now().strftime(\"%Y%m%d-%H%M%S\")+\".pkl\"\n",
    "    rootLogger.info(\"Saving to {}\".format(pathlib.Path(name).absolute()))\n",
    "    with open(name, 'wb') as f:\n",
    "        pkl.dump(exio3, f)\n",
    "\n",
    "exio3 = pym.parse_exiobase3(path='./../../../Data/Données_SocioEco/Tableaux/EXIO_TABLES/IOT_2011_ixi.zip')\n",
    "\n",
    "aggreg(exio3, \"./../other/aggreg EXIO.ods\", \"./../other/exio3_aggreg_sectors_20220202-102727.json\")"
   ]
  },
  {
   "cell_type": "code",
   "execution_count": 1,
   "id": "c0e77357-69d7-465b-8d45-db8b87f3e247",
   "metadata": {},
   "outputs": [],
   "source": [
    "import os\n",
    "import sys\n",
    "module_path = os.path.abspath(os.path.join('..'))\n",
    "if module_path not in sys.path:\n",
    "    sys.path.append(module_path)\n",
    "\n",
    "from ario3.simulation import Simulation\n",
    "from ario3.indicators import Indicators\n",
    "import json\n",
    "import pandas as pd\n",
    "import numpy as np\n",
    "import pathlib\n",
    "import csv\n",
    "\n",
    "params = {\n",
    "    \"results_storage\": \"results\",\n",
    "    \"bool_run_detailled\": True,\n",
    "    \"register_stocks\": True,\n",
    "    \"psi_param\": 0.85,\n",
    "    \"model_time_step\": 1,\n",
    "    \"timestep_dividing_factor\": 365,\n",
    "    \"inventory_restoration_time\": 60,\n",
    "    \"alpha_base\": 1.0,\n",
    "    \"alpha_max\": 1.25,\n",
    "    \"alpha_tau\": 365,\n",
    "    \"rebuild_tau\": 10000,\n",
    "    \"n_timesteps\": 600,\n",
    "    \"min_duration\": 25,\n",
    "    \"impacted_region_base_production_toward_rebuilding\": 0.001,\n",
    "    \"row_base_production_toward_rebuilding\": 0.0,\n",
    "    \"mrio_params_file\": \"/home/sjuhel/Nextcloud/Thesis/Workbench/Data/BigScaleTest/mrio_params.json\",\n",
    "    \"storage_dir\": \"../../Data/BigScaleTest/\"\n",
    "}\n",
    "\n",
    "event = {\n",
    "    \"aff-regions\": [\n",
    "        \"JP\"\n",
    "    ],\n",
    "    \"aff-sectors\": [\n",
    "        \"Mining of coal and lignite; extraction of peat (10)\",\n",
    "        \"Extraction of crude petroleum, gas and other\",\n",
    "        \"Mining of uranium and thorium ores (12)\",\n",
    "        \"Mining of iron ores\",\n",
    "        \"Mining of copper ores and concentrates\",\n",
    "        \"Mining of nickel ores and concentrates\",\n",
    "        \"Mining of aluminium ores and concentrates\",\n",
    "        \"Mining of precious metal ores and concentrates\",\n",
    "        \"Mining of lead, zinc and tin ores and concentrates\",\n",
    "        \"Mining of other non-ferrous metal ores and concentrates\",\n",
    "        \"Quarrying\",\n",
    "        \"Manufacture of textile and wearing apparel (17,18)\",\n",
    "        \"Manufacture of wood and of products of wood and cork, except furniture; manufacture of articles of straw and plaiting materials (20)\",\n",
    "        \"Manufacture of coke oven products\",\n",
    "        \"Petroleum Refinery\",\n",
    "        \"Processing of nuclear fuel\",\n",
    "        \"Plastics, basic\",\n",
    "        \"Fertilisers\",\n",
    "        \"Chemicals nec\",\n",
    "        \"Manufacture of rubber and plastic products (25)\",\n",
    "        \"Manufacture of glass and glass products\",\n",
    "        \"Manufacture of ceramic goods\",\n",
    "        \"Manufacture of construction products and cement\",\n",
    "        \"Manufacture of other non-metallic mineral products n.e.c.\",\n",
    "        \"Manufacture of basic iron and steel and of ferro-alloys and first products thereof\",\n",
    "        \"Precious metals production\",\n",
    "        \"Aluminium production\",\n",
    "        \"Lead, zinc and tin production\",\n",
    "        \"Copper production\",\n",
    "        \"Other non-ferrous metal production\",\n",
    "        \"Casting of metals\",\n",
    "        \"Manufacture of fabricated metal products, except machinery and equipment (28)\",\n",
    "        \"Manufacture of machinery and equipment n.e.c. (29)\",\n",
    "        \"Manufacture of office machinery and computers (30)\",\n",
    "        \"Manufacture of electrical machinery and apparatus n.e.c. (31)\",\n",
    "        \"Manufacture of medical, precision and optical instruments, watches and clocks (33)\",\n",
    "        \"Manufacture of transport equipment (34,35)\",\n",
    "        \"Manufacture of furniture; manufacturing n.e.c. (36)\",\n",
    "        \"Recycling of waste and scrap\",\n",
    "        \"Transmission and distribution of electricity\",\n",
    "        \"Transport via railways\",\n",
    "        \"Other land transport\",\n",
    "        \"Post and telecommunications (64)\"\n",
    "    ],\n",
    "    \"dmg-distrib-regions\": [\n",
    "        1\n",
    "    ],\n",
    "    \"dmg-distrib-sectors-type\": \"gdp\",\n",
    "    \"dmg-distrib-sectors\": [],\n",
    "    \"duration\": 1,\n",
    "    \"name\": \"0\",\n",
    "    \"occur\": 5,\n",
    "    \"q_dmg\": 25000000000,\n",
    "    \"rebuilding-sectors\": {\n",
    "        \"Public administration and defence; compulsory social security, Education and Health (75,80,85)\": 0.24,\n",
    "        \"Construction (45)\": 0.24,\n",
    "        \"Manufacture of wood and of products of wood and cork, except furniture; manufacture of articles of straw and plaiting materials (20)\": 0.05,\n",
    "        \"Manufacture of construction products and cement\": 0.05,\n",
    "        \"Manufacture of office machinery and computers (30)\": 0.023,\n",
    "        \"Other land transport\": 0.046,\n",
    "        \"Manufacture of electrical machinery and apparatus n.e.c. (31)\": 0.08,\n",
    "        \"Financial intermediation, insurance and pension funding (65)\": 0.024,\n",
    "        \"Manufacture of furniture; manufacturing n.e.c. (36)\": 0.06,\n",
    "        \"Manufacture of textile and wearing apparel (17,18)\": 0.011,\n",
    "        \"Manufacture of machinery and equipment n.e.c. (29)\": 0.01,\n",
    "        \"Chemicals nec\": 0.005,\n",
    "        \"Retail sale of automotive fuel\": 0.005,\n",
    "        \"Processing of food products nec\": 0.003,\n",
    "        \"Manufacture of ceramic goods\": 0.0009,\n",
    "        \"Manufacture of medical, precision and optical instruments, watches and clocks (33)\": 0.002,\n",
    "        \"Cultivation in general\": 5e-05,\n",
    "        \"Animal farming\": 5e-05,\n",
    "        \"Sale, maintenance, repair of motor vehicles, motor vehicles parts, motorcycles, motor cycles parts and accessoiries\": 0.05,\n",
    "        \"Retail trade, except of motor vehicles and motorcycles; repair of personal and household goods (52)\": 0.05,\n",
    "        \"Wholesale trade and commission trade, except of motor vehicles and motorcycles (51)\": 0.05\n",
    "    }\n",
    "}\n",
    "#\"../../Data/BigScaleTest/mrio.pkl\" \"other/params_test_20220202.json\" \"other/event_test_20220202.json\" \"../../Data/BigScaleTest/\"\n",
    "\n",
    "mrio_path = pathlib.Path(\"../../../Data/\")"
   ]
  },
  {
   "cell_type": "code",
   "execution_count": 2,
   "id": "62f8dda8-41ee-42ff-864a-13f3b584acf1",
   "metadata": {},
   "outputs": [
    {
     "name": "stderr",
     "output_type": "stream",
     "text": [
      "10:40:49 [INFO] - [simulation.py > __init__() > 57] - Initializing new simulation instance\n",
      "10:40:50 [DEBUG] - [mriosystem.py > __init__() > 124] - Initiating new MrioSystem instance\n",
      "10:40:50 [INFO] - [mriosystem.py > __init__() > 142] - Monetary unit is: 1000000\n",
      "10:40:50 [INFO] - [simulation.py > __init__() > 130] - Initialized !\n",
      "10:40:50 [INFO] - [simulation.py > read_events_from_list() > 276] - Reading events from given list and adding them to the model\n",
      "10:40:50 [INFO] - [simulation.py > shock() > 310] - Shocking model with new event\n",
      "10:40:50 [INFO] - [simulation.py > shock() > 311] - Affected regions are : ['JP']\n",
      "10:40:50 [INFO] - [simulation.py > shock() > 326] - Damages are 25000.0 times 1000000 [unit (ie $/€/£)]\n"
     ]
    }
   ],
   "source": [
    "model = Simulation(params, mrio_path)\n",
    "model.read_events_from_list([event])\n",
    "model.shock(model.events[0])"
   ]
  },
  {
   "cell_type": "code",
   "execution_count": 3,
   "id": "d81281ff-32eb-49fe-93e9-8ed1cf2fc75d",
   "metadata": {},
   "outputs": [
    {
     "data": {
      "image/png": "[encoded data removed]",
      "text/plain": [
       "<Figure size 1080x1080 with 1 Axes>"
      ]
     },
     "metadata": {
      "needs_background": "light"
     },
     "output_type": "display_data"
    }
   ],
   "source": [
    "import matplotlib.pyplot as plt\n",
    "import pickle as pkl\n",
    "import pathlib\n",
    "\n",
    "mrio_path = pathlib.Path(\"../../../Data/exio3_japan_ROW_20220215-165410.pkl\")\n",
    "with mrio_path.open('rb') as f:\n",
    "    exio3 = pkl.load(f)\n",
    "\n",
    "plt.figure(figsize=(15,15))\n",
    "plt.imshow(exio3.A, vmax=1E-3)\n",
    "plt.xlabel('Countries - sectors')\n",
    "plt.ylabel('Countries - sectors')\n",
    "plt.show()"
   ]
  },
  {
   "cell_type": "code",
   "execution_count": 7,
   "id": "a077d4cb-70be-4bb0-9e81-fbd47f757d53",
   "metadata": {},
   "outputs": [
    {
     "data": {
      "text/plain": [
       "23"
      ]
     },
     "execution_count": 7,
     "metadata": {},
     "output_type": "execute_result"
    }
   ],
   "source": [
    "np.count_nonzero(model.mrio.VA_0 < 0)"
   ]
  },
  {
   "cell_type": "code",
   "execution_count": 11,
   "id": "af060326-13ec-4792-830c-bc56d4fdea2c",
   "metadata": {},
   "outputs": [],
   "source": [
    "import pickle as pkl\n",
    "\n",
    "with pathlib.Path(\"../../../Data/exio3_74sec_20220215-115159.pkl\").open('rb') as f:\n",
    "    mrio = pkl.load(f)"
   ]
  },
  {
   "cell_type": "code",
   "execution_count": 14,
   "id": "68ecb68a-8ea7-4535-b836-c4aea93f520a",
   "metadata": {},
   "outputs": [
    {
     "name": "stdout",
     "output_type": "stream",
     "text": [
      "IO System with parameters: Z, Y, x, unit, meta, satellite, IOT_2019_ixi, impacts\n"
     ]
    }
   ],
   "source": [
    "print(mrio)"
   ]
  }
 ],
 "metadata": {
  "kernelspec": {
   "display_name": "Python [conda env:ario3]",
   "language": "python",
   "name": "conda-env-ario3-py"
  },
  "language_info": {
   "codemirror_mode": {
    "name": "ipython",
    "version": 3
   },
   "file_extension": ".py",
   "mimetype": "text/x-python",
   "name": "python",
   "nbconvert_exporter": "python",
   "pygments_lexer": "ipython3",
   "version": "3.8.5"
  }
 },
 "nbformat": 4,
 "nbformat_minor": 5
}
