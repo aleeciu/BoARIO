{
 "cells": [
  {
   "cell_type": "code",
   "execution_count": 1,
   "id": "afea3a79-7800-4b39-bf1e-1265e1dbc9b3",
   "metadata": {},
   "outputs": [],
   "source": [
    "import pathlib\n",
    "import numpy as np\n",
    "import plotly.express as px\n",
    "import pandas as pd"
   ]
  },
  {
   "cell_type": "code",
   "execution_count": 43,
   "id": "2cb1e879-6658-438f-a2f0-6353e845e282",
   "metadata": {},
   "outputs": [],
   "source": [
    "meta_df = None"
   ]
  },
  {
   "cell_type": "code",
   "execution_count": 44,
   "id": "fdf3939e-c5d4-47de-b19a-840a73f103f9",
   "metadata": {},
   "outputs": [],
   "source": [
    "import plotly.express as px\n",
    "import plotly.graph_objects as go\n",
    "import plotly.io as pio\n",
    "\n",
    "pio.templates[\"econ\"] = go.layout.Template(\n",
    "layout = {\n",
    "    # Fonts\n",
    "    # Note - 'family' must be a single string, NOT a list or dict!\n",
    "    'title':\n",
    "        {'font': {'family': 'Roboto Condensed, bold', \n",
    "                  'size':24,\n",
    "                  'color': '#333'}\n",
    "        },\n",
    "    'font': {'family': 'Roboto Condensed', \n",
    "                  'size':18,\n",
    "                  'color': '#333'},\n",
    "    # Colorways\n",
    "    #'colorway': ['#ec7424', '#a4abab'],\n",
    "    # Keep adding others as needed below\n",
    "    'margin': {'l':20, 'r':20, 't':140, 'b':20},\n",
    "    'paper_bgcolor':\"#fff5e6\",\n",
    "    'width':1600,\n",
    "    'height': 900,\n",
    "    },\n",
    ")\n",
    "pio.templates[\"econ\"].layout.autosize = False\n",
    "\n",
    "px.defaults.template = \"ggplot2+econ\""
   ]
  },
  {
   "cell_type": "code",
   "execution_count": 51,
   "id": "99338bd2-b4af-476f-915d-251ff9586730",
   "metadata": {},
   "outputs": [
    {
     "data": {
      "text/html": [
       "<div>\n",
       "<style scoped>\n",
       "    .dataframe tbody tr th:only-of-type {\n",
       "        vertical-align: middle;\n",
       "    }\n",
       "\n",
       "    .dataframe tbody tr th {\n",
       "        vertical-align: top;\n",
       "    }\n",
       "\n",
       "    .dataframe thead th {\n",
       "        text-align: right;\n",
       "    }\n",
       "</style>\n",
       "<table border=\"1\" class=\"dataframe\">\n",
       "  <thead>\n",
       "    <tr style=\"text-align: right;\">\n",
       "      <th></th>\n",
       "      <th>region</th>\n",
       "      <th>shortage_b</th>\n",
       "      <th>q_dmg</th>\n",
       "      <th>variable</th>\n",
       "      <th>value</th>\n",
       "    </tr>\n",
       "  </thead>\n",
       "  <tbody>\n",
       "    <tr>\n",
       "      <th>0</th>\n",
       "      <td>AT</td>\n",
       "      <td>False</td>\n",
       "      <td>8.339840e+09</td>\n",
       "      <td>tot_fd_unmet</td>\n",
       "      <td>7702.519691</td>\n",
       "    </tr>\n",
       "    <tr>\n",
       "      <th>1</th>\n",
       "      <td>AT</td>\n",
       "      <td>False</td>\n",
       "      <td>2.259885e+09</td>\n",
       "      <td>tot_fd_unmet</td>\n",
       "      <td>2502.390351</td>\n",
       "    </tr>\n",
       "    <tr>\n",
       "      <th>2</th>\n",
       "      <td>AT</td>\n",
       "      <td>False</td>\n",
       "      <td>2.906845e+08</td>\n",
       "      <td>tot_fd_unmet</td>\n",
       "      <td>313.895706</td>\n",
       "    </tr>\n",
       "    <tr>\n",
       "      <th>3</th>\n",
       "      <td>AU</td>\n",
       "      <td>True</td>\n",
       "      <td>3.931253e+10</td>\n",
       "      <td>tot_fd_unmet</td>\n",
       "      <td>946464.448591</td>\n",
       "    </tr>\n",
       "    <tr>\n",
       "      <th>4</th>\n",
       "      <td>AU</td>\n",
       "      <td>False</td>\n",
       "      <td>3.349392e+09</td>\n",
       "      <td>tot_fd_unmet</td>\n",
       "      <td>4445.148105</td>\n",
       "    </tr>\n",
       "    <tr>\n",
       "      <th>...</th>\n",
       "      <td>...</td>\n",
       "      <td>...</td>\n",
       "      <td>...</td>\n",
       "      <td>...</td>\n",
       "      <td>...</td>\n",
       "    </tr>\n",
       "    <tr>\n",
       "      <th>697</th>\n",
       "      <td>US</td>\n",
       "      <td>False</td>\n",
       "      <td>1.249970e+09</td>\n",
       "      <td>prod_lost_unaff</td>\n",
       "      <td>0.488005</td>\n",
       "    </tr>\n",
       "    <tr>\n",
       "      <th>698</th>\n",
       "      <td>US</td>\n",
       "      <td>False</td>\n",
       "      <td>9.789872e+07</td>\n",
       "      <td>prod_lost_unaff</td>\n",
       "      <td>0.017968</td>\n",
       "    </tr>\n",
       "    <tr>\n",
       "      <th>699</th>\n",
       "      <td>ZA</td>\n",
       "      <td>True</td>\n",
       "      <td>2.245920e+09</td>\n",
       "      <td>prod_lost_unaff</td>\n",
       "      <td>2061.157093</td>\n",
       "    </tr>\n",
       "    <tr>\n",
       "      <th>700</th>\n",
       "      <td>ZA</td>\n",
       "      <td>False</td>\n",
       "      <td>1.647764e+06</td>\n",
       "      <td>prod_lost_unaff</td>\n",
       "      <td>0.000354</td>\n",
       "    </tr>\n",
       "    <tr>\n",
       "      <th>701</th>\n",
       "      <td>ZA</td>\n",
       "      <td>False</td>\n",
       "      <td>7.600017e+05</td>\n",
       "      <td>prod_lost_unaff</td>\n",
       "      <td>0.000112</td>\n",
       "    </tr>\n",
       "  </tbody>\n",
       "</table>\n",
       "<p>702 rows × 5 columns</p>\n",
       "</div>"
      ],
      "text/plain": [
       "    region  shortage_b         q_dmg         variable          value\n",
       "0       AT       False  8.339840e+09     tot_fd_unmet    7702.519691\n",
       "1       AT       False  2.259885e+09     tot_fd_unmet    2502.390351\n",
       "2       AT       False  2.906845e+08     tot_fd_unmet     313.895706\n",
       "3       AU        True  3.931253e+10     tot_fd_unmet  946464.448591\n",
       "4       AU       False  3.349392e+09     tot_fd_unmet    4445.148105\n",
       "..     ...         ...           ...              ...            ...\n",
       "697     US       False  1.249970e+09  prod_lost_unaff       0.488005\n",
       "698     US       False  9.789872e+07  prod_lost_unaff       0.017968\n",
       "699     ZA        True  2.245920e+09  prod_lost_unaff    2061.157093\n",
       "700     ZA       False  1.647764e+06  prod_lost_unaff       0.000354\n",
       "701     ZA       False  7.600017e+05  prod_lost_unaff       0.000112\n",
       "\n",
       "[702 rows x 5 columns]"
      ]
     },
     "execution_count": 51,
     "metadata": {},
     "output_type": "execute_result"
    }
   ],
   "source": [
    "wd = pathlib.Path(\"../../../Data/Run_JP/outputs/\")\n",
    "wd = pathlib.Path(\"../../../Data/Run_GER/outputs/\")\n",
    "wd = pathlib.Path(\"../../../Data/Floods_Run_1/\")\n",
    "#df = pd.read_excel(\"./../../../Data/Données_SocioEco/Tableaux/aggreg EXIO.ods\", sheet_name=\"input\", engine=\"odf\", header=None).to_numpy()\n",
    "#df = pd.read_csv(wd/\"indicators_20220221-1536.csv\")\n",
    "#df = pd.read_csv(wd/\"indicators_20220221-1226.csv\")\n",
    "df = pd.read_excel(wd/\"indicators_pre_treated.ods\", engine = \"odf\")\n",
    "\n",
    "df = df[['region', 'tot_fd_unmet', 'aff_fd_unmet', 'shortage_b', 'prod_gain_tot',\n",
    "    'prod_lost_tot', 'prod_gain_unaff', 'prod_lost_unaff', 'q_dmg']]\n",
    "\n",
    "df = df.melt(id_vars=['region', 'shortage_b', 'q_dmg'])\n",
    "#df = df.drop(0)\n",
    "df\n",
    "#px.Scatter(df, x='q_dmg', y=\"\")"
   ]
  },
  {
   "cell_type": "code",
   "execution_count": 52,
   "id": "27d2f39c-4e08-475b-805d-0967a21f8739",
   "metadata": {},
   "outputs": [],
   "source": [
    "#meta_df = df[df.variable==\"tot_fd_unmet\"]\n",
    "meta_df = meta_df.append(df[df.variable==\"tot_fd_unmet\"])"
   ]
  },
  {
   "cell_type": "code",
   "execution_count": 54,
   "id": "f8f98f80-5d31-4bb6-867a-b2dbff1547ae",
   "metadata": {},
   "outputs": [
    {
     "data": {
      "application/vnd.plotly.v1+json": {
       "config": {
        "plotlyServerURL": "https://plot.ly"
       },
       "data": [
        {
         "customdata": [
          [
           "Japan"
          ],
          [
           "Japan"
          ],
          [
           "Japan"
          ],
          [
           "Japan"
          ],
          [
           "Japan"
          ],
          [
           "Japan"
          ],
          [
           "Japan"
          ],
          [
           "Japan"
          ],
          [
           "Japan"
          ],
          [
           "Japan"
          ],
          [
           "Japan"
          ],
          [
           "Japan"
          ],
          [
           "Japan"
          ],
          [
           "Japan"
          ],
          [
           "Japan"
          ],
          [
           "Japan"
          ],
          [
           "Japan"
          ],
          [
           "Japan"
          ],
          [
           "Japan"
          ],
          [
           "Japan"
          ],
          [
           "Japan"
          ],
          [
           "Japan"
          ],
          [
           "Japan"
          ],
          [
           "Japan"
          ],
          [
           "Japan"
          ],
          [
           "Japan"
          ],
          [
           "Japan"
          ],
          [
           "Japan"
          ],
          [
           "Japan"
          ],
          [
           "Japan"
          ],
          [
           "Japan"
          ],
          [
           "Japan"
          ],
          [
           "Japan"
          ],
          [
           "Japan"
          ],
          [
           "Japan"
          ],
          [
           "Japan"
          ],
          [
           "Japan"
          ],
          [
           "Japan"
          ],
          [
           "AT"
          ],
          [
           "AT"
          ],
          [
           "AT"
          ],
          [
           "AU"
          ],
          [
           "AU"
          ],
          [
           "AU"
          ],
          [
           "BE"
          ],
          [
           "BE"
          ],
          [
           "BE"
          ],
          [
           "BG"
          ],
          [
           "BG"
          ],
          [
           "BG"
          ],
          [
           "BR"
          ],
          [
           "BR"
          ],
          [
           "BR"
          ],
          [
           "CA"
          ],
          [
           "CA"
          ],
          [
           "CA"
          ],
          [
           "CH"
          ],
          [
           "CH"
          ],
          [
           "CH"
          ],
          [
           "CN"
          ],
          [
           "CN"
          ],
          [
           "CN"
          ],
          [
           "CZ"
          ],
          [
           "CZ"
          ],
          [
           "CZ"
          ],
          [
           "DE"
          ],
          [
           "DE"
          ],
          [
           "DE"
          ],
          [
           "EE"
          ],
          [
           "EE"
          ],
          [
           "EE"
          ],
          [
           "ES"
          ],
          [
           "ES"
          ],
          [
           "ES"
          ],
          [
           "FI"
          ],
          [
           "FI"
          ],
          [
           "FI"
          ],
          [
           "FR"
          ],
          [
           "FR"
          ],
          [
           "FR"
          ],
          [
           "GB"
          ],
          [
           "GB"
          ],
          [
           "GB"
          ],
          [
           "GR"
          ],
          [
           "GR"
          ],
          [
           "GR"
          ],
          [
           "HR"
          ],
          [
           "HR"
          ],
          [
           "HR"
          ],
          [
           "HU"
          ],
          [
           "HU"
          ],
          [
           "HU"
          ],
          [
           "ID"
          ],
          [
           "ID"
          ],
          [
           "ID"
          ],
          [
           "IE"
          ],
          [
           "IE"
          ],
          [
           "IE"
          ],
          [
           "IN"
          ],
          [
           "IN"
          ],
          [
           "IN"
          ],
          [
           "IT"
          ],
          [
           "IT"
          ],
          [
           "IT"
          ],
          [
           "JP"
          ],
          [
           "JP"
          ],
          [
           "JP"
          ],
          [
           "KR"
          ],
          [
           "KR"
          ],
          [
           "KR"
          ],
          [
           "LT"
          ],
          [
           "LT"
          ],
          [
           "LT"
          ],
          [
           "LV"
          ],
          [
           "LV"
          ],
          [
           "LV"
          ],
          [
           "MX"
          ],
          [
           "MX"
          ],
          [
           "MX"
          ],
          [
           "NL"
          ],
          [
           "NL"
          ],
          [
           "NL"
          ],
          [
           "NO"
          ],
          [
           "NO"
          ],
          [
           "NO"
          ],
          [
           "PL"
          ],
          [
           "PL"
          ],
          [
           "PL"
          ],
          [
           "PT"
          ],
          [
           "PT"
          ],
          [
           "PT"
          ],
          [
           "RO"
          ],
          [
           "RO"
          ],
          [
           "RO"
          ],
          [
           "RU"
          ],
          [
           "RU"
          ],
          [
           "RU"
          ],
          [
           "SE"
          ],
          [
           "SE"
          ],
          [
           "SE"
          ],
          [
           "SI"
          ],
          [
           "SI"
          ],
          [
           "SI"
          ],
          [
           "SK"
          ],
          [
           "SK"
          ],
          [
           "SK"
          ],
          [
           "TR"
          ],
          [
           "TR"
          ],
          [
           "TR"
          ],
          [
           "US"
          ],
          [
           "US"
          ],
          [
           "US"
          ],
          [
           "ZA"
          ],
          [
           "ZA"
          ],
          [
           "ZA"
          ]
         ],
         "hovertemplate": "variable=tot_fd_unmet<br>q_dmg=%{x}<br>value=%{y}<br>region=%{customdata[0]}<extra></extra>",
         "legendgroup": "tot_fd_unmet",
         "marker": {
          "color": "#F8766D",
          "symbol": "circle"
         },
         "mode": "markers",
         "name": "tot_fd_unmet",
         "orientation": "v",
         "showlegend": true,
         "type": "scatter",
         "x": [
          1000000000,
          5000000000,
          9000000000,
          13000000000,
          17000000000,
          21000000000,
          25000000000,
          29000000000,
          33000000000,
          37000000000,
          41000000000,
          45000000000,
          49000000000,
          53000000000,
          57000000000,
          61000000000,
          65000000000,
          69000000000,
          73000000000,
          77000000000,
          81000000000,
          85000000000,
          89000000000,
          93000000000,
          97000000000,
          101000000000,
          105000000000,
          109000000000,
          113000000000,
          117000000000,
          121000000000,
          125000000000,
          129000000000,
          133000000000,
          137000000000,
          141000000000,
          145000000000,
          149000000000,
          8339840437.378,
          2259885047.32053,
          290684549.096024,
          39312529804.4595,
          3349392127.77672,
          85733239.4214886,
          9978801822.86908,
          602488235.873926,
          331163703.761591,
          3807950015.98138,
          495943006.371527,
          6261263.99964053,
          8868762667.77587,
          106396741.676737,
          3534880.49922711,
          12979617543.4642,
          422010097.104889,
          18749576.501439,
          3044336209.61839,
          2127217718.23335,
          946831783.381312,
          179343900007.129,
          4482370204.74884,
          109321973.771488,
          10547410612.5646,
          2854043924.6116,
          194661600.973509,
          75245003315.1722,
          8148348946.6189,
          676789157.197582,
          478751150.440822,
          471292220.048048,
          20646072.0741978,
          16486590473.4883,
          1692112206.02445,
          121091956.50175,
          8079329675.99639,
          1861391916.19034,
          164580484.061038,
          60414700348.0656,
          2918911270.44643,
          141911147.33455,
          17406695042.4749,
          2377927740.70149,
          518248556.043913,
          1136742783.08843,
          631910169.351297,
          43039575.2721152,
          739798154.545978,
          364681628.762086,
          90166934.6884245,
          11565119707.7084,
          1529971090.96142,
          42350985.4989321,
          8420112955.96819,
          36661429.8583831,
          4851945.92648311,
          3660811146.84069,
          1869747403.61347,
          317411373.994087,
          26664911754.1014,
          1153575092.30736,
          22066098.9343321,
          35185999934.8753,
          5558658545.19041,
          799448318.883564,
          11482459125.6927,
          2306271637.33403,
          54557927.8143185,
          8067785270.75834,
          1129740313.17092,
          325527705.931475,
          2519571132.29925,
          1032162636.84674,
          164440.900182695,
          4025039331.69111,
          284854188.713861,
          4921013.68715278,
          8470382784.0071,
          176288374.263903,
          4348651.68009628,
          91501476.677689,
          91501476.677689,
          91501476.677689,
          2273844128.78476,
          900876451.11282,
          36994046.5046329,
          7576732194.35959,
          1265082922.20986,
          58244184.4231519,
          3250923120.43041,
          1342180294.01484,
          140775457.975335,
          4874709737.88296,
          196028381.45508,
          5709103.99869176,
          43989336625.2556,
          1884529449.78903,
          38646992.9956736,
          10547296894.6934,
          1800578459.22081,
          44868103.0055023,
          724103065.187005,
          678557774.612344,
          602617.550987857,
          4095084509.38619,
          2205785674.78224,
          144676678.158623,
          614417943.045509,
          22536259.1980013,
          2128582.99981122,
          30207615586.4748,
          1249970205.92627,
          97898723.9982979,
          2245919672.96136,
          1647764.00039865,
          760001.700183871
         ],
         "xaxis": "x",
         "y": [
          1036.8820170013205,
          6685.1395065230045,
          13063.56792331761,
          42919.121059158366,
          102078.59724085078,
          181660.6331252046,
          269677.055319118,
          362425.38860147033,
          449218.03344415233,
          541575.4675953253,
          625102.0295045363,
          708161.8307100052,
          788018.4348036381,
          861804.6631657395,
          938809.2823600468,
          1013888.7585371104,
          1085056.4082320307,
          1153174.6690085777,
          1219991.056486048,
          1285830.3598952058,
          1350602.5312000471,
          1414338.2504450546,
          1477134.5581827075,
          1536192.5594226045,
          1594524.7152822113,
          1654064.316510488,
          1708428.3405125723,
          1762703.0463930618,
          1815411.0188710869,
          1866384.919267629,
          1916085.8774067056,
          1965320.7256299732,
          2015091.974313805,
          2065232.361626525,
          2116186.065761964,
          2169859.7944833077,
          2228311.1754320986,
          2298313.5558400173,
          7702.51969050804,
          2502.39035134093,
          313.895705588759,
          946464.448591471,
          4445.14810545992,
          94.5521511337229,
          15637.9171994222,
          821.568860788163,
          427.063925992283,
          5560.82059575507,
          563.526725871759,
          6.92586822641774,
          15069.403319417,
          114.294585720641,
          7.07762042602408,
          30745.1664789991,
          499.270312882341,
          22.7204090257804,
          3242.19858816811,
          2314.72049598683,
          1038.31926983618,
          9149361.43813638,
          4855.2409309795,
          140.915953097551,
          20846.2722196909,
          3648.5575321971,
          269.540681417887,
          69605.6278562781,
          10037.1362317536,
          656.422801073267,
          777.369471836205,
          756.769350798718,
          27.2953587371311,
          20316.8673613039,
          1951.57048925487,
          116.6052790939,
          19478.1330093553,
          2338.32536652574,
          204.860802227277,
          513149.121441339,
          3993.2372786391,
          166.514470908241,
          19186.7661413192,
          2894.41468846739,
          516.581686249059,
          1302.67810000924,
          765.430877207634,
          54.5594616991357,
          816.763770423857,
          447.730108140539,
          122.571377488484,
          28466.490016038,
          1996.99858794406,
          48.6045488748154,
          17630.4130694358,
          54.1413163955576,
          10.1030900475501,
          5862.1268498741,
          3169.16580443164,
          503.502627614378,
          261460.2118234,
          1399.31059384856,
          29.0234948409641,
          74578.2571386488,
          6729.97967125812,
          860.147651177761,
          15024.079192795,
          2772.82767139648,
          62.168363470978,
          60660.6358784702,
          1634.83487084452,
          383.530551830826,
          5438.79183712222,
          1074.51836973719,
          0.243099469662998,
          2048646.92841757,
          303.223405361377,
          5.39893626231053,
          12141.061585173,
          218.424103368935,
          7.37512661577652,
          104.080413906322,
          104.080413906322,
          104.080413906322,
          13313.744694667,
          1062.14082725848,
          43.0860938584216,
          7353.20059877154,
          1441.18283898234,
          54.6719641851133,
          28108.2106466434,
          9225.43251029818,
          166.460952353186,
          86250.2099266461,
          246.900472226322,
          7.7553787656177,
          419803.193119419,
          1885.33189192413,
          39.887484760654,
          21795.4940052939,
          2383.76756951723,
          53.0094469286696,
          677.555253847533,
          639.177347849423,
          0.806718483252564,
          4620.47304102173,
          2211.59146931829,
          170.871635406367,
          911.22740035836,
          31.6252411955304,
          3.53074001808343,
          1040443.58524572,
          1274.92755466639,
          108.414273820372,
          22452.203572189,
          2.42752883076979,
          1.24048194832889
         ],
         "yaxis": "y"
        }
       ],
       "layout": {
        "height": 900,
        "legend": {
         "title": {
          "text": "variable"
         },
         "tracegroupgap": 0
        },
        "template": {
         "data": {
          "bar": [
           {
            "error_x": {
             "color": "rgb(51,51,51)"
            },
            "error_y": {
             "color": "rgb(51,51,51)"
            },
            "marker": {
             "line": {
              "color": "rgb(237,237,237)",
              "width": 0.5
             },
             "pattern": {
              "fillmode": "overlay",
              "size": 10,
              "solidity": 0.2
             }
            },
            "type": "bar"
           }
          ],
          "barpolar": [
           {
            "marker": {
             "line": {
              "color": "rgb(237,237,237)",
              "width": 0.5
             },
             "pattern": {
              "fillmode": "overlay",
              "size": 10,
              "solidity": 0.2
             }
            },
            "type": "barpolar"
           }
          ],
          "carpet": [
           {
            "aaxis": {
             "endlinecolor": "rgb(51,51,51)",
             "gridcolor": "white",
             "linecolor": "white",
             "minorgridcolor": "white",
             "startlinecolor": "rgb(51,51,51)"
            },
            "baxis": {
             "endlinecolor": "rgb(51,51,51)",
             "gridcolor": "white",
             "linecolor": "white",
             "minorgridcolor": "white",
             "startlinecolor": "rgb(51,51,51)"
            },
            "type": "carpet"
           }
          ],
          "choropleth": [
           {
            "colorbar": {
             "outlinewidth": 0,
             "tickcolor": "rgb(237,237,237)",
             "ticklen": 6,
             "ticks": "inside"
            },
            "type": "choropleth"
           }
          ],
          "contour": [
           {
            "colorbar": {
             "outlinewidth": 0,
             "tickcolor": "rgb(237,237,237)",
             "ticklen": 6,
             "ticks": "inside"
            },
            "colorscale": [
             [
              0,
              "rgb(20,44,66)"
             ],
             [
              1,
              "rgb(90,179,244)"
             ]
            ],
            "type": "contour"
           }
          ],
          "contourcarpet": [
           {
            "colorbar": {
             "outlinewidth": 0,
             "tickcolor": "rgb(237,237,237)",
             "ticklen": 6,
             "ticks": "inside"
            },
            "type": "contourcarpet"
           }
          ],
          "heatmap": [
           {
            "colorbar": {
             "outlinewidth": 0,
             "tickcolor": "rgb(237,237,237)",
             "ticklen": 6,
             "ticks": "inside"
            },
            "colorscale": [
             [
              0,
              "rgb(20,44,66)"
             ],
             [
              1,
              "rgb(90,179,244)"
             ]
            ],
            "type": "heatmap"
           }
          ],
          "heatmapgl": [
           {
            "colorbar": {
             "outlinewidth": 0,
             "tickcolor": "rgb(237,237,237)",
             "ticklen": 6,
             "ticks": "inside"
            },
            "colorscale": [
             [
              0,
              "rgb(20,44,66)"
             ],
             [
              1,
              "rgb(90,179,244)"
             ]
            ],
            "type": "heatmapgl"
           }
          ],
          "histogram": [
           {
            "marker": {
             "pattern": {
              "fillmode": "overlay",
              "size": 10,
              "solidity": 0.2
             }
            },
            "type": "histogram"
           }
          ],
          "histogram2d": [
           {
            "colorbar": {
             "outlinewidth": 0,
             "tickcolor": "rgb(237,237,237)",
             "ticklen": 6,
             "ticks": "inside"
            },
            "colorscale": [
             [
              0,
              "rgb(20,44,66)"
             ],
             [
              1,
              "rgb(90,179,244)"
             ]
            ],
            "type": "histogram2d"
           }
          ],
          "histogram2dcontour": [
           {
            "colorbar": {
             "outlinewidth": 0,
             "tickcolor": "rgb(237,237,237)",
             "ticklen": 6,
             "ticks": "inside"
            },
            "colorscale": [
             [
              0,
              "rgb(20,44,66)"
             ],
             [
              1,
              "rgb(90,179,244)"
             ]
            ],
            "type": "histogram2dcontour"
           }
          ],
          "mesh3d": [
           {
            "colorbar": {
             "outlinewidth": 0,
             "tickcolor": "rgb(237,237,237)",
             "ticklen": 6,
             "ticks": "inside"
            },
            "type": "mesh3d"
           }
          ],
          "parcoords": [
           {
            "line": {
             "colorbar": {
              "outlinewidth": 0,
              "tickcolor": "rgb(237,237,237)",
              "ticklen": 6,
              "ticks": "inside"
             }
            },
            "type": "parcoords"
           }
          ],
          "pie": [
           {
            "automargin": true,
            "type": "pie"
           }
          ],
          "scatter": [
           {
            "marker": {
             "colorbar": {
              "outlinewidth": 0,
              "tickcolor": "rgb(237,237,237)",
              "ticklen": 6,
              "ticks": "inside"
             }
            },
            "type": "scatter"
           }
          ],
          "scatter3d": [
           {
            "line": {
             "colorbar": {
              "outlinewidth": 0,
              "tickcolor": "rgb(237,237,237)",
              "ticklen": 6,
              "ticks": "inside"
             }
            },
            "marker": {
             "colorbar": {
              "outlinewidth": 0,
              "tickcolor": "rgb(237,237,237)",
              "ticklen": 6,
              "ticks": "inside"
             }
            },
            "type": "scatter3d"
           }
          ],
          "scattercarpet": [
           {
            "marker": {
             "colorbar": {
              "outlinewidth": 0,
              "tickcolor": "rgb(237,237,237)",
              "ticklen": 6,
              "ticks": "inside"
             }
            },
            "type": "scattercarpet"
           }
          ],
          "scattergeo": [
           {
            "marker": {
             "colorbar": {
              "outlinewidth": 0,
              "tickcolor": "rgb(237,237,237)",
              "ticklen": 6,
              "ticks": "inside"
             }
            },
            "type": "scattergeo"
           }
          ],
          "scattergl": [
           {
            "marker": {
             "colorbar": {
              "outlinewidth": 0,
              "tickcolor": "rgb(237,237,237)",
              "ticklen": 6,
              "ticks": "inside"
             }
            },
            "type": "scattergl"
           }
          ],
          "scattermapbox": [
           {
            "marker": {
             "colorbar": {
              "outlinewidth": 0,
              "tickcolor": "rgb(237,237,237)",
              "ticklen": 6,
              "ticks": "inside"
             }
            },
            "type": "scattermapbox"
           }
          ],
          "scatterpolar": [
           {
            "marker": {
             "colorbar": {
              "outlinewidth": 0,
              "tickcolor": "rgb(237,237,237)",
              "ticklen": 6,
              "ticks": "inside"
             }
            },
            "type": "scatterpolar"
           }
          ],
          "scatterpolargl": [
           {
            "marker": {
             "colorbar": {
              "outlinewidth": 0,
              "tickcolor": "rgb(237,237,237)",
              "ticklen": 6,
              "ticks": "inside"
             }
            },
            "type": "scatterpolargl"
           }
          ],
          "scatterternary": [
           {
            "marker": {
             "colorbar": {
              "outlinewidth": 0,
              "tickcolor": "rgb(237,237,237)",
              "ticklen": 6,
              "ticks": "inside"
             }
            },
            "type": "scatterternary"
           }
          ],
          "surface": [
           {
            "colorbar": {
             "outlinewidth": 0,
             "tickcolor": "rgb(237,237,237)",
             "ticklen": 6,
             "ticks": "inside"
            },
            "colorscale": [
             [
              0,
              "rgb(20,44,66)"
             ],
             [
              1,
              "rgb(90,179,244)"
             ]
            ],
            "type": "surface"
           }
          ],
          "table": [
           {
            "cells": {
             "fill": {
              "color": "rgb(237,237,237)"
             },
             "line": {
              "color": "white"
             }
            },
            "header": {
             "fill": {
              "color": "rgb(217,217,217)"
             },
             "line": {
              "color": "white"
             }
            },
            "type": "table"
           }
          ]
         },
         "layout": {
          "annotationdefaults": {
           "arrowhead": 0,
           "arrowwidth": 1
          },
          "autosize": false,
          "autotypenumbers": "strict",
          "coloraxis": {
           "colorbar": {
            "outlinewidth": 0,
            "tickcolor": "rgb(237,237,237)",
            "ticklen": 6,
            "ticks": "inside"
           }
          },
          "colorscale": {
           "sequential": [
            [
             0,
             "rgb(20,44,66)"
            ],
            [
             1,
             "rgb(90,179,244)"
            ]
           ],
           "sequentialminus": [
            [
             0,
             "rgb(20,44,66)"
            ],
            [
             1,
             "rgb(90,179,244)"
            ]
           ]
          },
          "colorway": [
           "#F8766D",
           "#A3A500",
           "#00BF7D",
           "#00B0F6",
           "#E76BF3"
          ],
          "font": {
           "color": "#333",
           "family": "Roboto Condensed",
           "size": 18
          },
          "geo": {
           "bgcolor": "white",
           "lakecolor": "white",
           "landcolor": "rgb(237,237,237)",
           "showlakes": true,
           "showland": true,
           "subunitcolor": "white"
          },
          "height": 900,
          "hoverlabel": {
           "align": "left"
          },
          "hovermode": "closest",
          "margin": {
           "b": 20,
           "l": 20,
           "r": 20,
           "t": 140
          },
          "paper_bgcolor": "#fff5e6",
          "plot_bgcolor": "rgb(237,237,237)",
          "polar": {
           "angularaxis": {
            "gridcolor": "white",
            "linecolor": "white",
            "showgrid": true,
            "tickcolor": "rgb(51,51,51)",
            "ticks": "outside"
           },
           "bgcolor": "rgb(237,237,237)",
           "radialaxis": {
            "gridcolor": "white",
            "linecolor": "white",
            "showgrid": true,
            "tickcolor": "rgb(51,51,51)",
            "ticks": "outside"
           }
          },
          "scene": {
           "xaxis": {
            "backgroundcolor": "rgb(237,237,237)",
            "gridcolor": "white",
            "gridwidth": 2,
            "linecolor": "white",
            "showbackground": true,
            "showgrid": true,
            "tickcolor": "rgb(51,51,51)",
            "ticks": "outside",
            "zerolinecolor": "white"
           },
           "yaxis": {
            "backgroundcolor": "rgb(237,237,237)",
            "gridcolor": "white",
            "gridwidth": 2,
            "linecolor": "white",
            "showbackground": true,
            "showgrid": true,
            "tickcolor": "rgb(51,51,51)",
            "ticks": "outside",
            "zerolinecolor": "white"
           },
           "zaxis": {
            "backgroundcolor": "rgb(237,237,237)",
            "gridcolor": "white",
            "gridwidth": 2,
            "linecolor": "white",
            "showbackground": true,
            "showgrid": true,
            "tickcolor": "rgb(51,51,51)",
            "ticks": "outside",
            "zerolinecolor": "white"
           }
          },
          "shapedefaults": {
           "fillcolor": "black",
           "line": {
            "width": 0
           },
           "opacity": 0.3
          },
          "ternary": {
           "aaxis": {
            "gridcolor": "white",
            "linecolor": "white",
            "showgrid": true,
            "tickcolor": "rgb(51,51,51)",
            "ticks": "outside"
           },
           "baxis": {
            "gridcolor": "white",
            "linecolor": "white",
            "showgrid": true,
            "tickcolor": "rgb(51,51,51)",
            "ticks": "outside"
           },
           "bgcolor": "rgb(237,237,237)",
           "caxis": {
            "gridcolor": "white",
            "linecolor": "white",
            "showgrid": true,
            "tickcolor": "rgb(51,51,51)",
            "ticks": "outside"
           }
          },
          "title": {
           "font": {
            "color": "#333",
            "family": "Roboto Condensed, bold",
            "size": 24
           }
          },
          "width": 1600,
          "xaxis": {
           "automargin": true,
           "gridcolor": "white",
           "linecolor": "white",
           "showgrid": true,
           "tickcolor": "rgb(51,51,51)",
           "ticks": "outside",
           "title": {
            "standoff": 15
           },
           "zerolinecolor": "white"
          },
          "yaxis": {
           "automargin": true,
           "gridcolor": "white",
           "linecolor": "white",
           "showgrid": true,
           "tickcolor": "rgb(51,51,51)",
           "ticks": "outside",
           "title": {
            "standoff": 15
           },
           "zerolinecolor": "white"
          }
         }
        },
        "width": 1600,
        "xaxis": {
         "anchor": "y",
         "autorange": true,
         "domain": [
          0,
          1
         ],
         "range": [
          -10584544806.981985,
          189928609255.01117
         ],
         "title": {
          "text": "q_dmg"
         },
         "type": "linear"
        },
        "yaxis": {
         "anchor": "x",
         "autorange": true,
         "domain": [
          0,
          1
         ],
         "range": [
          -570988.5043954338,
          9720350.185631284
         ],
         "title": {
          "text": "value"
         },
         "type": "linear"
        }
       }
      },
      "image/png": "[encoded data removed]",
      "text/html": [
       "<div>                            <div id=\"d5f4a171-8672-499f-bbb9-1e11533a0357\" class=\"plotly-graph-div\" style=\"height:900px; width:1600px;\"></div>            <script type=\"text/javascript\">                require([\"plotly\"], function(Plotly) {                    window.PLOTLYENV=window.PLOTLYENV || {};                                    if (document.getElementById(\"d5f4a171-8672-499f-bbb9-1e11533a0357\")) {                    Plotly.newPlot(                        \"d5f4a171-8672-499f-bbb9-1e11533a0357\",                        [{\"customdata\":[[\"Japan\"],[\"Japan\"],[\"Japan\"],[\"Japan\"],[\"Japan\"],[\"Japan\"],[\"Japan\"],[\"Japan\"],[\"Japan\"],[\"Japan\"],[\"Japan\"],[\"Japan\"],[\"Japan\"],[\"Japan\"],[\"Japan\"],[\"Japan\"],[\"Japan\"],[\"Japan\"],[\"Japan\"],[\"Japan\"],[\"Japan\"],[\"Japan\"],[\"Japan\"],[\"Japan\"],[\"Japan\"],[\"Japan\"],[\"Japan\"],[\"Japan\"],[\"Japan\"],[\"Japan\"],[\"Japan\"],[\"Japan\"],[\"Japan\"],[\"Japan\"],[\"Japan\"],[\"Japan\"],[\"Japan\"],[\"Japan\"],[\"AT\"],[\"AT\"],[\"AT\"],[\"AU\"],[\"AU\"],[\"AU\"],[\"BE\"],[\"BE\"],[\"BE\"],[\"BG\"],[\"BG\"],[\"BG\"],[\"BR\"],[\"BR\"],[\"BR\"],[\"CA\"],[\"CA\"],[\"CA\"],[\"CH\"],[\"CH\"],[\"CH\"],[\"CN\"],[\"CN\"],[\"CN\"],[\"CZ\"],[\"CZ\"],[\"CZ\"],[\"DE\"],[\"DE\"],[\"DE\"],[\"EE\"],[\"EE\"],[\"EE\"],[\"ES\"],[\"ES\"],[\"ES\"],[\"FI\"],[\"FI\"],[\"FI\"],[\"FR\"],[\"FR\"],[\"FR\"],[\"GB\"],[\"GB\"],[\"GB\"],[\"GR\"],[\"GR\"],[\"GR\"],[\"HR\"],[\"HR\"],[\"HR\"],[\"HU\"],[\"HU\"],[\"HU\"],[\"ID\"],[\"ID\"],[\"ID\"],[\"IE\"],[\"IE\"],[\"IE\"],[\"IN\"],[\"IN\"],[\"IN\"],[\"IT\"],[\"IT\"],[\"IT\"],[\"JP\"],[\"JP\"],[\"JP\"],[\"KR\"],[\"KR\"],[\"KR\"],[\"LT\"],[\"LT\"],[\"LT\"],[\"LV\"],[\"LV\"],[\"LV\"],[\"MX\"],[\"MX\"],[\"MX\"],[\"NL\"],[\"NL\"],[\"NL\"],[\"NO\"],[\"NO\"],[\"NO\"],[\"PL\"],[\"PL\"],[\"PL\"],[\"PT\"],[\"PT\"],[\"PT\"],[\"RO\"],[\"RO\"],[\"RO\"],[\"RU\"],[\"RU\"],[\"RU\"],[\"SE\"],[\"SE\"],[\"SE\"],[\"SI\"],[\"SI\"],[\"SI\"],[\"SK\"],[\"SK\"],[\"SK\"],[\"TR\"],[\"TR\"],[\"TR\"],[\"US\"],[\"US\"],[\"US\"],[\"ZA\"],[\"ZA\"],[\"ZA\"]],\"hovertemplate\":\"variable=tot_fd_unmet<br>q_dmg=%{x}<br>value=%{y}<br>region=%{customdata[0]}<extra></extra>\",\"legendgroup\":\"tot_fd_unmet\",\"marker\":{\"color\":\"#F8766D\",\"symbol\":\"circle\"},\"mode\":\"markers\",\"name\":\"tot_fd_unmet\",\"orientation\":\"v\",\"showlegend\":true,\"type\":\"scatter\",\"x\":[1000000000.0,5000000000.0,9000000000.0,13000000000.0,17000000000.0,21000000000.0,25000000000.0,29000000000.0,33000000000.0,37000000000.0,41000000000.0,45000000000.0,49000000000.0,53000000000.0,57000000000.0,61000000000.0,65000000000.0,69000000000.0,73000000000.0,77000000000.0,81000000000.0,85000000000.0,89000000000.0,93000000000.0,97000000000.0,101000000000.0,105000000000.0,109000000000.0,113000000000.0,117000000000.0,121000000000.0,125000000000.0,129000000000.0,133000000000.0,137000000000.0,141000000000.0,145000000000.0,149000000000.0,8339840437.378,2259885047.32053,290684549.096024,39312529804.4595,3349392127.77672,85733239.4214886,9978801822.86908,602488235.873926,331163703.761591,3807950015.98138,495943006.371527,6261263.99964053,8868762667.77587,106396741.676737,3534880.49922711,12979617543.4642,422010097.104889,18749576.501439,3044336209.61839,2127217718.23335,946831783.381312,179343900007.129,4482370204.74884,109321973.771488,10547410612.5646,2854043924.6116,194661600.973509,75245003315.1722,8148348946.6189,676789157.197582,478751150.440822,471292220.048048,20646072.0741978,16486590473.4883,1692112206.02445,121091956.50175,8079329675.99639,1861391916.19034,164580484.061038,60414700348.0656,2918911270.44643,141911147.33455,17406695042.4749,2377927740.70149,518248556.043913,1136742783.08843,631910169.351297,43039575.2721152,739798154.545978,364681628.762086,90166934.6884245,11565119707.7084,1529971090.96142,42350985.4989321,8420112955.96819,36661429.8583831,4851945.92648311,3660811146.84069,1869747403.61347,317411373.994087,26664911754.1014,1153575092.30736,22066098.9343321,35185999934.8753,5558658545.19041,799448318.883564,11482459125.6927,2306271637.33403,54557927.8143185,8067785270.75834,1129740313.17092,325527705.931475,2519571132.29925,1032162636.84674,164440.900182695,4025039331.69111,284854188.713861,4921013.68715278,8470382784.0071,176288374.263903,4348651.68009628,91501476.677689,91501476.677689,91501476.677689,2273844128.78476,900876451.11282,36994046.5046329,7576732194.35959,1265082922.20986,58244184.4231519,3250923120.43041,1342180294.01484,140775457.975335,4874709737.88296,196028381.45508,5709103.99869176,43989336625.2556,1884529449.78903,38646992.9956736,10547296894.6934,1800578459.22081,44868103.0055023,724103065.187005,678557774.612344,602617.550987857,4095084509.38619,2205785674.78224,144676678.158623,614417943.045509,22536259.1980013,2128582.99981122,30207615586.4748,1249970205.92627,97898723.9982979,2245919672.96136,1647764.00039865,760001.700183871],\"xaxis\":\"x\",\"y\":[1036.8820170013205,6685.1395065230045,13063.56792331761,42919.121059158366,102078.59724085078,181660.6331252046,269677.055319118,362425.38860147033,449218.03344415233,541575.4675953253,625102.0295045363,708161.8307100052,788018.4348036381,861804.6631657395,938809.2823600468,1013888.7585371104,1085056.4082320307,1153174.6690085777,1219991.056486048,1285830.3598952058,1350602.5312000471,1414338.2504450546,1477134.5581827075,1536192.5594226045,1594524.7152822113,1654064.316510488,1708428.3405125723,1762703.0463930618,1815411.0188710869,1866384.919267629,1916085.8774067056,1965320.7256299732,2015091.974313805,2065232.361626525,2116186.065761964,2169859.7944833077,2228311.1754320986,2298313.5558400173,7702.51969050804,2502.39035134093,313.895705588759,946464.448591471,4445.14810545992,94.5521511337229,15637.9171994222,821.568860788163,427.063925992283,5560.82059575507,563.526725871759,6.92586822641774,15069.403319417,114.294585720641,7.07762042602408,30745.1664789991,499.270312882341,22.7204090257804,3242.19858816811,2314.72049598683,1038.31926983618,9149361.43813638,4855.2409309795,140.915953097551,20846.2722196909,3648.5575321971,269.540681417887,69605.6278562781,10037.1362317536,656.422801073267,777.369471836205,756.769350798718,27.2953587371311,20316.8673613039,1951.57048925487,116.6052790939,19478.1330093553,2338.32536652574,204.860802227277,513149.121441339,3993.2372786391,166.514470908241,19186.7661413192,2894.41468846739,516.581686249059,1302.67810000924,765.430877207634,54.5594616991357,816.763770423857,447.730108140539,122.571377488484,28466.490016038,1996.99858794406,48.6045488748154,17630.4130694358,54.1413163955576,10.1030900475501,5862.1268498741,3169.16580443164,503.502627614378,261460.2118234,1399.31059384856,29.0234948409641,74578.2571386488,6729.97967125812,860.147651177761,15024.079192795,2772.82767139648,62.168363470978,60660.6358784702,1634.83487084452,383.530551830826,5438.79183712222,1074.51836973719,0.243099469662998,2048646.92841757,303.223405361377,5.39893626231053,12141.061585173,218.424103368935,7.37512661577652,104.080413906322,104.080413906322,104.080413906322,13313.744694667,1062.14082725848,43.0860938584216,7353.20059877154,1441.18283898234,54.6719641851133,28108.2106466434,9225.43251029818,166.460952353186,86250.2099266461,246.900472226322,7.7553787656177,419803.193119419,1885.33189192413,39.887484760654,21795.4940052939,2383.76756951723,53.0094469286696,677.555253847533,639.177347849423,0.806718483252564,4620.47304102173,2211.59146931829,170.871635406367,911.22740035836,31.6252411955304,3.53074001808343,1040443.58524572,1274.92755466639,108.414273820372,22452.203572189,2.42752883076979,1.24048194832889],\"yaxis\":\"y\"}],                        {\"legend\":{\"title\":{\"text\":\"variable\"},\"tracegroupgap\":0},\"template\":{\"data\":{\"bar\":[{\"error_x\":{\"color\":\"rgb(51,51,51)\"},\"error_y\":{\"color\":\"rgb(51,51,51)\"},\"marker\":{\"line\":{\"color\":\"rgb(237,237,237)\",\"width\":0.5},\"pattern\":{\"fillmode\":\"overlay\",\"size\":10,\"solidity\":0.2}},\"type\":\"bar\"}],\"barpolar\":[{\"marker\":{\"line\":{\"color\":\"rgb(237,237,237)\",\"width\":0.5},\"pattern\":{\"fillmode\":\"overlay\",\"size\":10,\"solidity\":0.2}},\"type\":\"barpolar\"}],\"carpet\":[{\"aaxis\":{\"endlinecolor\":\"rgb(51,51,51)\",\"gridcolor\":\"white\",\"linecolor\":\"white\",\"minorgridcolor\":\"white\",\"startlinecolor\":\"rgb(51,51,51)\"},\"baxis\":{\"endlinecolor\":\"rgb(51,51,51)\",\"gridcolor\":\"white\",\"linecolor\":\"white\",\"minorgridcolor\":\"white\",\"startlinecolor\":\"rgb(51,51,51)\"},\"type\":\"carpet\"}],\"choropleth\":[{\"colorbar\":{\"outlinewidth\":0,\"tickcolor\":\"rgb(237,237,237)\",\"ticklen\":6,\"ticks\":\"inside\"},\"type\":\"choropleth\"}],\"contour\":[{\"colorbar\":{\"outlinewidth\":0,\"tickcolor\":\"rgb(237,237,237)\",\"ticklen\":6,\"ticks\":\"inside\"},\"colorscale\":[[0,\"rgb(20,44,66)\"],[1,\"rgb(90,179,244)\"]],\"type\":\"contour\"}],\"contourcarpet\":[{\"colorbar\":{\"outlinewidth\":0,\"tickcolor\":\"rgb(237,237,237)\",\"ticklen\":6,\"ticks\":\"inside\"},\"type\":\"contourcarpet\"}],\"heatmap\":[{\"colorbar\":{\"outlinewidth\":0,\"tickcolor\":\"rgb(237,237,237)\",\"ticklen\":6,\"ticks\":\"inside\"},\"colorscale\":[[0,\"rgb(20,44,66)\"],[1,\"rgb(90,179,244)\"]],\"type\":\"heatmap\"}],\"heatmapgl\":[{\"colorbar\":{\"outlinewidth\":0,\"tickcolor\":\"rgb(237,237,237)\",\"ticklen\":6,\"ticks\":\"inside\"},\"colorscale\":[[0,\"rgb(20,44,66)\"],[1,\"rgb(90,179,244)\"]],\"type\":\"heatmapgl\"}],\"histogram\":[{\"marker\":{\"pattern\":{\"fillmode\":\"overlay\",\"size\":10,\"solidity\":0.2}},\"type\":\"histogram\"}],\"histogram2d\":[{\"colorbar\":{\"outlinewidth\":0,\"tickcolor\":\"rgb(237,237,237)\",\"ticklen\":6,\"ticks\":\"inside\"},\"colorscale\":[[0,\"rgb(20,44,66)\"],[1,\"rgb(90,179,244)\"]],\"type\":\"histogram2d\"}],\"histogram2dcontour\":[{\"colorbar\":{\"outlinewidth\":0,\"tickcolor\":\"rgb(237,237,237)\",\"ticklen\":6,\"ticks\":\"inside\"},\"colorscale\":[[0,\"rgb(20,44,66)\"],[1,\"rgb(90,179,244)\"]],\"type\":\"histogram2dcontour\"}],\"mesh3d\":[{\"colorbar\":{\"outlinewidth\":0,\"tickcolor\":\"rgb(237,237,237)\",\"ticklen\":6,\"ticks\":\"inside\"},\"type\":\"mesh3d\"}],\"parcoords\":[{\"line\":{\"colorbar\":{\"outlinewidth\":0,\"tickcolor\":\"rgb(237,237,237)\",\"ticklen\":6,\"ticks\":\"inside\"}},\"type\":\"parcoords\"}],\"pie\":[{\"automargin\":true,\"type\":\"pie\"}],\"scatter\":[{\"marker\":{\"colorbar\":{\"outlinewidth\":0,\"tickcolor\":\"rgb(237,237,237)\",\"ticklen\":6,\"ticks\":\"inside\"}},\"type\":\"scatter\"}],\"scatter3d\":[{\"line\":{\"colorbar\":{\"outlinewidth\":0,\"tickcolor\":\"rgb(237,237,237)\",\"ticklen\":6,\"ticks\":\"inside\"}},\"marker\":{\"colorbar\":{\"outlinewidth\":0,\"tickcolor\":\"rgb(237,237,237)\",\"ticklen\":6,\"ticks\":\"inside\"}},\"type\":\"scatter3d\"}],\"scattercarpet\":[{\"marker\":{\"colorbar\":{\"outlinewidth\":0,\"tickcolor\":\"rgb(237,237,237)\",\"ticklen\":6,\"ticks\":\"inside\"}},\"type\":\"scattercarpet\"}],\"scattergeo\":[{\"marker\":{\"colorbar\":{\"outlinewidth\":0,\"tickcolor\":\"rgb(237,237,237)\",\"ticklen\":6,\"ticks\":\"inside\"}},\"type\":\"scattergeo\"}],\"scattergl\":[{\"marker\":{\"colorbar\":{\"outlinewidth\":0,\"tickcolor\":\"rgb(237,237,237)\",\"ticklen\":6,\"ticks\":\"inside\"}},\"type\":\"scattergl\"}],\"scattermapbox\":[{\"marker\":{\"colorbar\":{\"outlinewidth\":0,\"tickcolor\":\"rgb(237,237,237)\",\"ticklen\":6,\"ticks\":\"inside\"}},\"type\":\"scattermapbox\"}],\"scatterpolar\":[{\"marker\":{\"colorbar\":{\"outlinewidth\":0,\"tickcolor\":\"rgb(237,237,237)\",\"ticklen\":6,\"ticks\":\"inside\"}},\"type\":\"scatterpolar\"}],\"scatterpolargl\":[{\"marker\":{\"colorbar\":{\"outlinewidth\":0,\"tickcolor\":\"rgb(237,237,237)\",\"ticklen\":6,\"ticks\":\"inside\"}},\"type\":\"scatterpolargl\"}],\"scatterternary\":[{\"marker\":{\"colorbar\":{\"outlinewidth\":0,\"tickcolor\":\"rgb(237,237,237)\",\"ticklen\":6,\"ticks\":\"inside\"}},\"type\":\"scatterternary\"}],\"surface\":[{\"colorbar\":{\"outlinewidth\":0,\"tickcolor\":\"rgb(237,237,237)\",\"ticklen\":6,\"ticks\":\"inside\"},\"colorscale\":[[0,\"rgb(20,44,66)\"],[1,\"rgb(90,179,244)\"]],\"type\":\"surface\"}],\"table\":[{\"cells\":{\"fill\":{\"color\":\"rgb(237,237,237)\"},\"line\":{\"color\":\"white\"}},\"header\":{\"fill\":{\"color\":\"rgb(217,217,217)\"},\"line\":{\"color\":\"white\"}},\"type\":\"table\"}]},\"layout\":{\"annotationdefaults\":{\"arrowhead\":0,\"arrowwidth\":1},\"autosize\":false,\"autotypenumbers\":\"strict\",\"coloraxis\":{\"colorbar\":{\"outlinewidth\":0,\"tickcolor\":\"rgb(237,237,237)\",\"ticklen\":6,\"ticks\":\"inside\"}},\"colorscale\":{\"sequential\":[[0,\"rgb(20,44,66)\"],[1,\"rgb(90,179,244)\"]],\"sequentialminus\":[[0,\"rgb(20,44,66)\"],[1,\"rgb(90,179,244)\"]]},\"colorway\":[\"#F8766D\",\"#A3A500\",\"#00BF7D\",\"#00B0F6\",\"#E76BF3\"],\"font\":{\"color\":\"#333\",\"family\":\"Roboto Condensed\",\"size\":18},\"geo\":{\"bgcolor\":\"white\",\"lakecolor\":\"white\",\"landcolor\":\"rgb(237,237,237)\",\"showlakes\":true,\"showland\":true,\"subunitcolor\":\"white\"},\"height\":900,\"hoverlabel\":{\"align\":\"left\"},\"hovermode\":\"closest\",\"margin\":{\"b\":20,\"l\":20,\"r\":20,\"t\":140},\"paper_bgcolor\":\"#fff5e6\",\"plot_bgcolor\":\"rgb(237,237,237)\",\"polar\":{\"angularaxis\":{\"gridcolor\":\"white\",\"linecolor\":\"white\",\"showgrid\":true,\"tickcolor\":\"rgb(51,51,51)\",\"ticks\":\"outside\"},\"bgcolor\":\"rgb(237,237,237)\",\"radialaxis\":{\"gridcolor\":\"white\",\"linecolor\":\"white\",\"showgrid\":true,\"tickcolor\":\"rgb(51,51,51)\",\"ticks\":\"outside\"}},\"scene\":{\"xaxis\":{\"backgroundcolor\":\"rgb(237,237,237)\",\"gridcolor\":\"white\",\"gridwidth\":2,\"linecolor\":\"white\",\"showbackground\":true,\"showgrid\":true,\"tickcolor\":\"rgb(51,51,51)\",\"ticks\":\"outside\",\"zerolinecolor\":\"white\"},\"yaxis\":{\"backgroundcolor\":\"rgb(237,237,237)\",\"gridcolor\":\"white\",\"gridwidth\":2,\"linecolor\":\"white\",\"showbackground\":true,\"showgrid\":true,\"tickcolor\":\"rgb(51,51,51)\",\"ticks\":\"outside\",\"zerolinecolor\":\"white\"},\"zaxis\":{\"backgroundcolor\":\"rgb(237,237,237)\",\"gridcolor\":\"white\",\"gridwidth\":2,\"linecolor\":\"white\",\"showbackground\":true,\"showgrid\":true,\"tickcolor\":\"rgb(51,51,51)\",\"ticks\":\"outside\",\"zerolinecolor\":\"white\"}},\"shapedefaults\":{\"fillcolor\":\"black\",\"line\":{\"width\":0},\"opacity\":0.3},\"ternary\":{\"aaxis\":{\"gridcolor\":\"white\",\"linecolor\":\"white\",\"showgrid\":true,\"tickcolor\":\"rgb(51,51,51)\",\"ticks\":\"outside\"},\"baxis\":{\"gridcolor\":\"white\",\"linecolor\":\"white\",\"showgrid\":true,\"tickcolor\":\"rgb(51,51,51)\",\"ticks\":\"outside\"},\"bgcolor\":\"rgb(237,237,237)\",\"caxis\":{\"gridcolor\":\"white\",\"linecolor\":\"white\",\"showgrid\":true,\"tickcolor\":\"rgb(51,51,51)\",\"ticks\":\"outside\"}},\"title\":{\"font\":{\"color\":\"#333\",\"family\":\"Roboto Condensed, bold\",\"size\":24}},\"width\":1600,\"xaxis\":{\"automargin\":true,\"gridcolor\":\"white\",\"linecolor\":\"white\",\"showgrid\":true,\"tickcolor\":\"rgb(51,51,51)\",\"ticks\":\"outside\",\"title\":{\"standoff\":15},\"zerolinecolor\":\"white\"},\"yaxis\":{\"automargin\":true,\"gridcolor\":\"white\",\"linecolor\":\"white\",\"showgrid\":true,\"tickcolor\":\"rgb(51,51,51)\",\"ticks\":\"outside\",\"title\":{\"standoff\":15},\"zerolinecolor\":\"white\"}}},\"xaxis\":{\"anchor\":\"y\",\"domain\":[0.0,1.0],\"title\":{\"text\":\"q_dmg\"}},\"yaxis\":{\"anchor\":\"x\",\"domain\":[0.0,1.0],\"title\":{\"text\":\"value\"}}},                        {\"responsive\": true}                    ).then(function(){\n",
       "                            \n",
       "var gd = document.getElementById('d5f4a171-8672-499f-bbb9-1e11533a0357');\n",
       "var x = new MutationObserver(function (mutations, observer) {{\n",
       "        var display = window.getComputedStyle(gd).display;\n",
       "        if (!display || display === 'none') {{\n",
       "            console.log([gd, 'removed!']);\n",
       "            Plotly.purge(gd);\n",
       "            observer.disconnect();\n",
       "        }}\n",
       "}});\n",
       "\n",
       "// Listen for the removal of the full notebook cells\n",
       "var notebookContainer = gd.closest('#notebook-container');\n",
       "if (notebookContainer) {{\n",
       "    x.observe(notebookContainer, {childList: true});\n",
       "}}\n",
       "\n",
       "// Listen for the clearing of the current output cell\n",
       "var outputEl = gd.closest('.output');\n",
       "if (outputEl) {{\n",
       "    x.observe(outputEl, {childList: true});\n",
       "}}\n",
       "\n",
       "                        })                };                });            </script>        </div>"
      ]
     },
     "metadata": {},
     "output_type": "display_data"
    }
   ],
   "source": [
    "fig = px.scatter(meta_df, x='q_dmg', y='value', color=\"variable\", hover_data=[\"region\"])\n",
    "fig.show()"
   ]
  },
  {
   "cell_type": "code",
   "execution_count": null,
   "id": "8298f007-f8b5-4371-991f-8e165e5fdf3f",
   "metadata": {},
   "outputs": [],
   "source": []
  }
 ],
 "metadata": {
  "kernelspec": {
   "display_name": "Python 3 (ipykernel)",
   "language": "python",
   "name": "python3"
  },
  "language_info": {
   "codemirror_mode": {
    "name": "ipython",
    "version": 3
   },
   "file_extension": ".py",
   "mimetype": "text/x-python",
   "name": "python",
   "nbconvert_exporter": "python",
   "pygments_lexer": "ipython3",
   "version": "3.8.8"
  }
 },
 "nbformat": 4,
 "nbformat_minor": 5
}
