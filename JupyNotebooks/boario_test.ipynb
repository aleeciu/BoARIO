{
 "cells": [
  {
   "cell_type": "code",
   "execution_count": 5,
   "id": "fa86305c-f6a2-4a47-8084-79ddb546d627",
   "metadata": {},
   "outputs": [],
   "source": [
    "# some_file.py\n",
    "import sys\n",
    "# insert at 1, 0 is the script path (or '' in REPL)\n",
    "sys.path.insert(1, '../')\n",
    "\n",
    "# We import the base of the model\n",
    "import boario.simulation as sim\n",
    "# We also import the indicators module\n",
    "from boario.indicators import Indicators\n",
    "import pathlib\n",
    "\n",
    "# We instantiate a dictionary with the parameters\n",
    "# (it is also possible to use a json file)\n",
    "\n",
    "params = {\n",
    "    # The name of the working directory to use (relative to current wd)\n",
    "    \"input_dir\": \"/home/sjuhel/Nextcloud/Thesis/Workbench/Data/BoARIO-testing/\",\n",
    "    \"output_dir\": \"/home/sjuhel/Nextcloud/Thesis/Workbench/Data/BoARIO-testing/\",\n",
    "    # The directory to use to store results (relative to storage_dir)\n",
    "    # i.e. here, the model will look for files in ~/boario/storage/ and\n",
    "    # store results in ~/boario/storage/results/\n",
    "    \"results_storage\": \"results\",\n",
    "    # This tells the model to register the evolution of the stocks\n",
    "    # of every industry (the file can be quite large (2Gbytes+ for\n",
    "    # a 365 days simulation with exiobase))\n",
    "    \"register_stocks\": True,\n",
    "    # Parameters of the model (we detail these in the documentation)\n",
    "   \"psi_param\": 0.85,\n",
    "   \"model_time_step\": 1,\n",
    "   \"timestep_dividing_factor\": 365,\n",
    "   \"inventory_restoration_time\": 9,\n",
    "   \"alpha_base\": 1.0,\n",
    "   \"alpha_max\": 1.25,\n",
    "   \"alpha_tau\": 365,\n",
    "   \"rebuild_tau\": 30,\n",
    "   \"n_timesteps\": 365,\n",
    "   \"min_duration\": (365 // 100) * 25,\n",
    "   \"impacted_region_base_production_toward_rebuilding\": 0.001,\n",
    "   \"row_base_production_toward_rebuilding\": 0.0,\n",
    "    \"mrio_params_file\": \"/home/sjuhel/Nextcloud/Thesis/Workbench/Data/Snakeruns/inputs/mrio_params.json\"\n",
    "}\n",
    "\n",
    "# Here we define the event perturbing the simulation\n",
    "event = {\n",
    "    # The list of affected regions (their index in the mrio table)\n",
    "    # Here we just have France\n",
    "    \"aff-regions\": [\"Europe\"],\n",
    "    # The list of affected sectors\n",
    "    # (here we specify that all sectors are impacted)\n",
    "    \"aff-sectors\": \"all\",\n",
    "    # The shares of the damages distributed between regions\n",
    "    # (1 as we have only one region)\n",
    "    \"dmg-distrib-regions\": [ 1 ],\n",
    "    # The type of distribution of damages for the sectors\n",
    "    # (more on that in the doc)\n",
    "    \"dmg-distrib-sectors-type\": \"gdp\",\n",
    "    # 'gdp' distribution doesn't require this parameter to be set\n",
    "    \"dmg-distrib-sectors\": [],\n",
    "    # The duration of the event (not implemented yet, so it has no effect)\n",
    "    \"duration\": 1,\n",
    "    # A name for the event (usefull when simulating multiple events)\n",
    "    \"name\": \"0\",\n",
    "    # The step at which the event shall occur during the simulation\n",
    "    \"occur\": 5,\n",
    "    # The quantity of damages caused by the event (in IO table monetary)\n",
    "    \"q_dmg\":100000000,\n",
    "    # The sectors mobilised to answer the rebuilding demand\n",
    "    # and the share of the demand they answer\n",
    "    \"rebuilding-sectors\": {\n",
    "        \"Construction\":0.15,\n",
    "        \"Manufacture\" :0.85\n",
    "    }\n",
    "}\n",
    "\n",
    "# We load the mrio table from a pickle file (created with the help of the\n",
    "# pymrio module, more on that in the doc)\n",
    "mrio_path = pathlib.Path(params['input_dir'])/\"minimal_mrio_2cons.pkl\""
   ]
  },
  {
   "cell_type": "code",
   "execution_count": 6,
   "id": "0eac275d-45ae-4ba4-b6c4-0b0771d03528",
   "metadata": {},
   "outputs": [
    {
     "name": "stderr",
     "output_type": "stream",
     "text": [
      "15:53:46 [INFO] - [simulation.py > __init__() > 57] - Initializing new simulation instance\n",
      "15:53:46 [DEBUG] - [mriosystem.py > __init__() > 143] - Initiating new MrioSystem instance\n",
      "15:53:46 [INFO] - [mriosystem.py > __init__() > 149] - Results storage is: /home/sjuhel/Nextcloud/Thesis/Workbench/Data/BoARIO-testing/results\n",
      "15:53:46 [INFO] - [mriosystem.py > __init__() > 164] - Monetary unit is: 1000000\n"
     ]
    },
    {
     "ename": "ValueError",
     "evalue": "operands could not be broadcast together with shapes (8,40) (74,1) ",
     "output_type": "error",
     "traceback": [
      "\u001b[0;31m---------------------------------------------------------------------------\u001b[0m",
      "\u001b[0;31mValueError\u001b[0m                                Traceback (most recent call last)",
      "\u001b[0;32m/tmp/ipykernel_509634/1549623009.py\u001b[0m in \u001b[0;36m<module>\u001b[0;34m\u001b[0m\n\u001b[1;32m      1\u001b[0m \u001b[0;31m# We initiate a model instance ...\u001b[0m\u001b[0;34m\u001b[0m\u001b[0;34m\u001b[0m\u001b[0;34m\u001b[0m\u001b[0m\n\u001b[0;32m----> 2\u001b[0;31m \u001b[0mmodel\u001b[0m \u001b[0;34m=\u001b[0m \u001b[0msim\u001b[0m\u001b[0;34m.\u001b[0m\u001b[0mSimulation\u001b[0m\u001b[0;34m(\u001b[0m\u001b[0mparams\u001b[0m\u001b[0;34m,\u001b[0m \u001b[0mmrio_path\u001b[0m\u001b[0;34m)\u001b[0m\u001b[0;34m\u001b[0m\u001b[0;34m\u001b[0m\u001b[0m\n\u001b[0m",
      "\u001b[0;32m~/Nextcloud/Thesis/Workbench/Code/ARIO3/boario/simulation.py\u001b[0m in \u001b[0;36m__init__\u001b[0;34m(self, params, mrio_system)\u001b[0m\n\u001b[1;32m    118\u001b[0m         \u001b[0;32mif\u001b[0m \u001b[0;32mnot\u001b[0m \u001b[0mresults_storage\u001b[0m\u001b[0;34m.\u001b[0m\u001b[0mexists\u001b[0m\u001b[0;34m(\u001b[0m\u001b[0;34m)\u001b[0m\u001b[0;34m:\u001b[0m\u001b[0;34m\u001b[0m\u001b[0;34m\u001b[0m\u001b[0m\n\u001b[1;32m    119\u001b[0m             \u001b[0mresults_storage\u001b[0m\u001b[0;34m.\u001b[0m\u001b[0mmkdir\u001b[0m\u001b[0;34m(\u001b[0m\u001b[0mparents\u001b[0m\u001b[0;34m=\u001b[0m\u001b[0;32mTrue\u001b[0m\u001b[0;34m)\u001b[0m\u001b[0;34m\u001b[0m\u001b[0;34m\u001b[0m\u001b[0m\n\u001b[0;32m--> 120\u001b[0;31m         \u001b[0mself\u001b[0m\u001b[0;34m.\u001b[0m\u001b[0mmrio\u001b[0m \u001b[0;34m=\u001b[0m \u001b[0mMrioSystem\u001b[0m\u001b[0;34m(\u001b[0m\u001b[0mmrio\u001b[0m\u001b[0;34m,\u001b[0m \u001b[0mmrio_params\u001b[0m\u001b[0;34m,\u001b[0m \u001b[0msimulation_params\u001b[0m\u001b[0;34m,\u001b[0m \u001b[0mresults_storage\u001b[0m\u001b[0;34m)\u001b[0m\u001b[0;34m\u001b[0m\u001b[0;34m\u001b[0m\u001b[0m\n\u001b[0m\u001b[1;32m    121\u001b[0m         \u001b[0mself\u001b[0m\u001b[0;34m.\u001b[0m\u001b[0mevents\u001b[0m \u001b[0;34m=\u001b[0m \u001b[0;34m[\u001b[0m\u001b[0;34m]\u001b[0m\u001b[0;34m\u001b[0m\u001b[0;34m\u001b[0m\u001b[0m\n\u001b[1;32m    122\u001b[0m         \u001b[0mself\u001b[0m\u001b[0;34m.\u001b[0m\u001b[0mevents_timings\u001b[0m \u001b[0;34m=\u001b[0m \u001b[0mset\u001b[0m\u001b[0;34m(\u001b[0m\u001b[0;34m)\u001b[0m\u001b[0;34m\u001b[0m\u001b[0;34m\u001b[0m\u001b[0m\n",
      "\u001b[0;32m~/Nextcloud/Thesis/Workbench/Code/ARIO3/boario/mriosystem.py\u001b[0m in \u001b[0;36m__init__\u001b[0;34m(self, pym_mrio, mrio_params, simulation_params, results_storage)\u001b[0m\n\u001b[1;32m    220\u001b[0m         \u001b[0mself\u001b[0m\u001b[0;34m.\u001b[0m\u001b[0moverprod\u001b[0m \u001b[0;34m=\u001b[0m \u001b[0mnp\u001b[0m\u001b[0;34m.\u001b[0m\u001b[0mfull\u001b[0m\u001b[0;34m(\u001b[0m\u001b[0;34m(\u001b[0m\u001b[0mself\u001b[0m\u001b[0;34m.\u001b[0m\u001b[0mn_regions\u001b[0m \u001b[0;34m*\u001b[0m \u001b[0mself\u001b[0m\u001b[0;34m.\u001b[0m\u001b[0mn_sectors\u001b[0m\u001b[0;34m)\u001b[0m\u001b[0;34m,\u001b[0m \u001b[0mself\u001b[0m\u001b[0;34m.\u001b[0m\u001b[0moverprod_base\u001b[0m\u001b[0;34m,\u001b[0m \u001b[0mdtype\u001b[0m\u001b[0;34m=\u001b[0m\u001b[0mnp\u001b[0m\u001b[0;34m.\u001b[0m\u001b[0mfloat64\u001b[0m\u001b[0;34m)\u001b[0m\u001b[0;34m\u001b[0m\u001b[0;34m\u001b[0m\u001b[0m\n\u001b[1;32m    221\u001b[0m         \u001b[0;32mwith\u001b[0m \u001b[0mnp\u001b[0m\u001b[0;34m.\u001b[0m\u001b[0merrstate\u001b[0m\u001b[0;34m(\u001b[0m\u001b[0mdivide\u001b[0m\u001b[0;34m=\u001b[0m\u001b[0;34m'ignore'\u001b[0m\u001b[0;34m,\u001b[0m\u001b[0minvalid\u001b[0m\u001b[0;34m=\u001b[0m\u001b[0;34m'ignore'\u001b[0m\u001b[0;34m)\u001b[0m\u001b[0;34m:\u001b[0m\u001b[0;34m\u001b[0m\u001b[0;34m\u001b[0m\u001b[0m\n\u001b[0;32m--> 222\u001b[0;31m             \u001b[0mself\u001b[0m\u001b[0;34m.\u001b[0m\u001b[0mmatrix_stock\u001b[0m \u001b[0;34m=\u001b[0m \u001b[0;34m(\u001b[0m\u001b[0;34m(\u001b[0m\u001b[0mnp\u001b[0m\u001b[0;34m.\u001b[0m\u001b[0mtile\u001b[0m\u001b[0;34m(\u001b[0m\u001b[0mself\u001b[0m\u001b[0;34m.\u001b[0m\u001b[0mX_0\u001b[0m\u001b[0;34m,\u001b[0m \u001b[0;34m(\u001b[0m\u001b[0mself\u001b[0m\u001b[0;34m.\u001b[0m\u001b[0mn_sectors\u001b[0m\u001b[0;34m,\u001b[0m \u001b[0;36m1\u001b[0m\u001b[0;34m)\u001b[0m\u001b[0;34m)\u001b[0m \u001b[0;34m*\u001b[0m \u001b[0mself\u001b[0m\u001b[0;34m.\u001b[0m\u001b[0mtech_mat\u001b[0m\u001b[0;34m)\u001b[0m \u001b[0;34m*\u001b[0m \u001b[0mself\u001b[0m\u001b[0;34m.\u001b[0m\u001b[0minv_duration\u001b[0m\u001b[0;34m[\u001b[0m\u001b[0;34m:\u001b[0m\u001b[0;34m,\u001b[0m\u001b[0mnp\u001b[0m\u001b[0;34m.\u001b[0m\u001b[0mnewaxis\u001b[0m\u001b[0;34m]\u001b[0m\u001b[0;34m)\u001b[0m\u001b[0;34m\u001b[0m\u001b[0;34m\u001b[0m\u001b[0m\n\u001b[0m\u001b[1;32m    223\u001b[0m         \u001b[0mself\u001b[0m\u001b[0;34m.\u001b[0m\u001b[0mmatrix_stock\u001b[0m \u001b[0;34m=\u001b[0m \u001b[0mnp\u001b[0m\u001b[0;34m.\u001b[0m\u001b[0mnan_to_num\u001b[0m\u001b[0;34m(\u001b[0m\u001b[0mself\u001b[0m\u001b[0;34m.\u001b[0m\u001b[0mmatrix_stock\u001b[0m\u001b[0;34m,\u001b[0m\u001b[0mnan\u001b[0m\u001b[0;34m=\u001b[0m\u001b[0mnp\u001b[0m\u001b[0;34m.\u001b[0m\u001b[0minf\u001b[0m\u001b[0;34m,\u001b[0m \u001b[0mposinf\u001b[0m\u001b[0;34m=\u001b[0m\u001b[0mnp\u001b[0m\u001b[0;34m.\u001b[0m\u001b[0minf\u001b[0m\u001b[0;34m)\u001b[0m\u001b[0;34m\u001b[0m\u001b[0;34m\u001b[0m\u001b[0m\n\u001b[1;32m    224\u001b[0m         \u001b[0mself\u001b[0m\u001b[0;34m.\u001b[0m\u001b[0mmatrix_stock_0\u001b[0m \u001b[0;34m=\u001b[0m \u001b[0mself\u001b[0m\u001b[0;34m.\u001b[0m\u001b[0mmatrix_stock\u001b[0m\u001b[0;34m.\u001b[0m\u001b[0mcopy\u001b[0m\u001b[0;34m(\u001b[0m\u001b[0;34m)\u001b[0m\u001b[0;34m\u001b[0m\u001b[0;34m\u001b[0m\u001b[0m\n",
      "\u001b[0;31mValueError\u001b[0m: operands could not be broadcast together with shapes (8,40) (74,1) "
     ]
    }
   ],
   "source": [
    "# We initiate a model instance ...\n",
    "model = sim.Simulation(params, mrio_path)"
   ]
  },
  {
   "cell_type": "code",
   "execution_count": 3,
   "id": "27a051df-5fad-4008-a4d0-56582274bc3a",
   "metadata": {},
   "outputs": [
    {
     "name": "stderr",
     "output_type": "stream",
     "text": [
      "14:58:16 [INFO] - [simulation.py > read_events_from_list() > 310] - Reading events from given list and adding them to the model\n",
      "14:58:16 [INFO] - [simulation.py > loop() > 152] - Starting model loop for at most 365 steps\n",
      "14:58:16 [INFO] - [simulation.py > loop() > 153] - One step is 1 day(s)\n",
      "14:58:16 [INFO] - [simulation.py > loop() > 158] - Parameters : \n",
      " {\n",
      "    \"input_dir\": \"/home/sjuhel/Nextcloud/Thesis/Workbench/Data/BoARIO-testing/\",\n",
      "    \"output_dir\": \"/home/sjuhel/Nextcloud/Thesis/Workbench/Data/BoARIO-testing/\",\n",
      "    \"results_storage\": \"results\",\n",
      "    \"register_stocks\": true,\n",
      "    \"psi_param\": 0.85,\n",
      "    \"model_time_step\": 1,\n",
      "    \"timestep_dividing_factor\": 365,\n",
      "    \"inventory_restoration_time\": 9,\n",
      "    \"alpha_base\": 1.0,\n",
      "    \"alpha_max\": 1.25,\n",
      "    \"alpha_tau\": 365,\n",
      "    \"rebuild_tau\": 30,\n",
      "    \"n_timesteps\": 365,\n",
      "    \"min_duration\": 75,\n",
      "    \"impacted_region_base_production_toward_rebuilding\": 0.001,\n",
      "    \"row_base_production_toward_rebuilding\": 0.0,\n",
      "    \"mrio_params_file\": \"/home/sjuhel/Nextcloud/Thesis/Workbench/Data/Snakeruns/inputs/mrio_params.json\"\n",
      "}\n",
      "Processed: Step: 5  ~   1% ETA:   0:02:35                                      14:58:18 [INFO] - [simulation.py > shock() > 380] - Shocking model with new event\n",
      "14:58:18 [INFO] - [simulation.py > shock() > 381] - Affected regions are : ['FR']\n",
      "14:58:18 [INFO] - [simulation.py > shock() > 396] - Damages are 100.0 times 1000000 [unit (ie $/€/£)]\n",
      "Processed: Step: 110  ~  30% ETA:   0:04:13                                    15:00:06 [WARNING] - [simulation.py > loop() > 176] - Economy seems to have found an equilibrium\n",
      "                    - At step : 111\n",
      "                    \n",
      "15:00:06 [INFO] - [simulation.py > loop() > 214] - Loop complete\n",
      "Processed: Step: 365  ~ 100% Time:  0:01:50                                    \n"
     ]
    }
   ],
   "source": [
    "# ... add the list of events (just one here) to the model ...\n",
    "model.read_events_from_list([event])\n",
    "\n",
    "# ... and launch the simulation with :\n",
    "model.loop()"
   ]
  },
  {
   "cell_type": "code",
   "execution_count": 2,
   "id": "6be0e7bb-777e-476e-803e-fdbc5fd506c5",
   "metadata": {},
   "outputs": [
    {
     "name": "stderr",
     "output_type": "stream",
     "text": [
      "10:41:43 [INFO] - [indicators.py > __init__() > 42] - Instanciating indicators\n",
      "10:41:53 [INFO] - [indicators.py > save_dfs() > 355] - Saving computed dataframe to results folder\n",
      "10:42:26 [INFO] - [indicators.py > update_indicators() > 332] - (Re)computing all indicators\n"
     ]
    }
   ],
   "source": [
    "# Once the simulation is over we can compute some indicators :\n",
    "indic = Indicators.from_folder(\n",
    "                               pathlib.Path(params['output_dir'])/\"results\",\n",
    "                               indexes_file=pathlib.Path(params['output_dir'])/\"results\"/\"indexes.json\"\n",
    ")\n",
    "indic.update_indicators()\n"
   ]
  },
  {
   "cell_type": "code",
   "execution_count": 3,
   "id": "5bbfa327-9a09-49d2-be99-495f3c45410c",
   "metadata": {},
   "outputs": [
    {
     "data": {
      "text/plain": [
       "PosixPath('/home/sjuhel/Nextcloud/Thesis/Workbench/Data/BoARIO-testing/results/indicators.json')"
      ]
     },
     "execution_count": 3,
     "metadata": {},
     "output_type": "execute_result"
    }
   ],
   "source": [
    "indic.storage"
   ]
  },
  {
   "cell_type": "code",
   "execution_count": 7,
   "id": "30933d65-1c5f-4ce0-93c0-b995c60bc7b2",
   "metadata": {},
   "outputs": [
    {
     "data": {
      "text/plain": [
       "region\n",
       "AT     0.533372\n",
       "AU     0.090601\n",
       "BE     1.350848\n",
       "BG     0.070998\n",
       "BR     0.215138\n",
       "CA     0.247437\n",
       "CH     0.897039\n",
       "CN     6.830135\n",
       "CY     0.006437\n",
       "CZ     0.629404\n",
       "DE     5.470590\n",
       "DK     0.374076\n",
       "EE     0.028761\n",
       "ES     1.752362\n",
       "FI     0.252680\n",
       "FR    24.368397\n",
       "GB     3.121271\n",
       "GR     0.234981\n",
       "HR     0.035377\n",
       "HU     0.375980\n",
       "ID     0.154247\n",
       "IE     0.782499\n",
       "IN     0.701047\n",
       "IT     3.346959\n",
       "JP     1.078509\n",
       "KR     0.556929\n",
       "LT     0.057249\n",
       "LU     0.070592\n",
       "LV     0.020321\n",
       "MT     0.078901\n",
       "MX     0.370380\n",
       "NL     1.029785\n",
       "NO     0.173231\n",
       "PL     0.914654\n",
       "PT     0.519095\n",
       "RO     0.306079\n",
       "RU     0.168496\n",
       "SE     0.455445\n",
       "SI     0.087389\n",
       "SK     0.275853\n",
       "TR     0.284099\n",
       "TW     0.669602\n",
       "US     3.195897\n",
       "WA     1.459900\n",
       "WE     0.232040\n",
       "WF     1.666457\n",
       "WL     0.346340\n",
       "WM     1.075836\n",
       "ZA     0.079907\n",
       "dtype: float64"
      ]
     },
     "execution_count": 7,
     "metadata": {},
     "output_type": "execute_result"
    }
   ],
   "source": [
    "pd.MultiIndex.from_product()"
   ]
  }
 ],
 "metadata": {
  "kernelspec": {
   "display_name": "Python [conda env:ario3]",
   "language": "python",
   "name": "conda-env-ario3-filprofile"
  },
  "language_info": {
   "codemirror_mode": {
    "name": "ipython",
    "version": 3
   },
   "file_extension": ".py",
   "mimetype": "text/x-python",
   "name": "python",
   "nbconvert_exporter": "python",
   "pygments_lexer": "ipython3",
   "version": "3.8.5"
  }
 },
 "nbformat": 4,
 "nbformat_minor": 5
}
