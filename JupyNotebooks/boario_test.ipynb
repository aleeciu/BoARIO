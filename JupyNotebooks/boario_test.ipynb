{
 "cells": [
  {
   "cell_type": "code",
   "execution_count": 1,
   "id": "fa86305c-f6a2-4a47-8084-79ddb546d627",
   "metadata": {},
   "outputs": [],
   "source": [
    "# some_file.py\n",
    "import sys\n",
    "# insert at 1, 0 is the script path (or '' in REPL)\n",
    "sys.path.insert(1, '../')\n",
    "\n",
    "# We import the base of the model\n",
    "import boario.simulation as sim\n",
    "# We also import the indicators module\n",
    "from boario.indicators import Indicators\n",
    "import pathlib\n",
    "\n",
    "# We instantiate a dictionary with the parameters\n",
    "# (it is also possible to use a json file)\n",
    "\n",
    "params = {\n",
    "    # The name of the working directory to use (relative to current wd)\n",
    "    \"input_dir\": \"/home/sjuhel/Nextcloud/Thesis/Workbench/Data/BoARIO-testing/\",\n",
    "    \"output_dir\": \"/home/sjuhel/Nextcloud/Thesis/Workbench/Data/BoARIO-testing/\",\n",
    "    # The directory to use to store results (relative to storage_dir)\n",
    "    # i.e. here, the model will look for files in ~/boario/storage/ and\n",
    "    # store results in ~/boario/storage/results/\n",
    "    \"results_storage\": \"results\",\n",
    "    # This tells the model to register the evolution of the stocks\n",
    "    # of every industry (the file can be quite large (2Gbytes+ for\n",
    "    # a 365 days simulation with exiobase))\n",
    "    \"register_stocks\": True,\n",
    "    # Parameters of the model (we detail these in the documentation)\n",
    "   \"psi_param\": 0.85,\n",
    "   \"model_time_step\": 1,\n",
    "   \"timestep_dividing_factor\": 365,\n",
    "   \"inventory_restoration_time\": 9,\n",
    "   \"alpha_base\": 1.0,\n",
    "   \"alpha_max\": 1.25,\n",
    "   \"alpha_tau\": 365,\n",
    "   \"rebuild_tau\": 30,\n",
    "   \"n_timesteps\": 365,\n",
    "   \"min_duration\": (365 // 100) * 25,\n",
    "   \"impacted_region_base_production_toward_rebuilding\": 0.001,\n",
    "   \"row_base_production_toward_rebuilding\": 0.0,\n",
    "    \"mrio_params_file\": \"/home/sjuhel/Nextcloud/Thesis/Workbench/Data/Snakeruns/inputs/mrio_params.json\"\n",
    "}\n",
    "\n",
    "# Here we define the event perturbing the simulation\n",
    "event = {\n",
    "    # The list of affected regions (their index in the mrio table)\n",
    "    # Here we just have France\n",
    "    \"aff-regions\": [\"FR\"],\n",
    "    # The list of affected sectors\n",
    "    # (here we specify that all sectors are impacted)\n",
    "    \"aff-sectors\": \"all\",\n",
    "    # The shares of the damages distributed between regions\n",
    "    # (1 as we have only one region)\n",
    "    \"dmg-distrib-regions\": [ 1 ],\n",
    "    # The type of distribution of damages for the sectors\n",
    "    # (more on that in the doc)\n",
    "    \"dmg-distrib-sectors-type\": \"gdp\",\n",
    "    # 'gdp' distribution doesn't require this parameter to be set\n",
    "    \"dmg-distrib-sectors\": [],\n",
    "    # The duration of the event (not implemented yet, so it has no effect)\n",
    "    \"duration\": 1,\n",
    "    # A name for the event (usefull when simulating multiple events)\n",
    "    \"name\": \"0\",\n",
    "    # The step at which the event shall occur during the simulation\n",
    "    \"occur\": 5,\n",
    "    # The quantity of damages caused by the event (in IO table monetary)\n",
    "    \"q_dmg\":100000000,\n",
    "    # The sectors mobilised to answer the rebuilding demand\n",
    "    # and the share of the demand they answer\n",
    "    \"rebuilding-sectors\": {\n",
    "        \"Construction (45)\":0.15,\n",
    "        \"Manufacture of machinery and equipment n.e.c. (29)\" : 0.20,\n",
    "        \"Manufacture of furniture; manufacturing n.e.c. (36)\" : 0.20,\n",
    "        \"Manufacture of office machinery and computers (30)\": 0.15,\n",
    "    }\n",
    "}\n",
    "\n",
    "# We load the mrio table from a pickle file (created with the help of the\n",
    "# pymrio module, more on that in the doc)\n",
    "mrio_path = pathlib.Path(params['input_dir'])/\"mrio_full.pkl\""
   ]
  },
  {
   "cell_type": "code",
   "execution_count": 2,
   "id": "0eac275d-45ae-4ba4-b6c4-0b0771d03528",
   "metadata": {},
   "outputs": [
    {
     "name": "stderr",
     "output_type": "stream",
     "text": [
      "14:58:15 [INFO] - [simulation.py > __init__() > 57] - Initializing new simulation instance\n",
      "14:58:15 [DEBUG] - [mriosystem.py > __init__() > 143] - Initiating new MrioSystem instance\n",
      "14:58:15 [INFO] - [mriosystem.py > __init__() > 149] - Results storage is: /home/sjuhel/Nextcloud/Thesis/Workbench/Data/BoARIO-testing/results\n",
      "14:58:15 [INFO] - [mriosystem.py > __init__() > 164] - Monetary unit is: 1000000\n",
      "14:58:16 [INFO] - [simulation.py > __init__() > 129] - Initialized !\n"
     ]
    }
   ],
   "source": [
    "# We initiate a model instance ...\n",
    "model = sim.Simulation(params, mrio_path)"
   ]
  },
  {
   "cell_type": "code",
   "execution_count": 3,
   "id": "27a051df-5fad-4008-a4d0-56582274bc3a",
   "metadata": {},
   "outputs": [
    {
     "name": "stderr",
     "output_type": "stream",
     "text": [
      "14:58:16 [INFO] - [simulation.py > read_events_from_list() > 310] - Reading events from given list and adding them to the model\n",
      "14:58:16 [INFO] - [simulation.py > loop() > 152] - Starting model loop for at most 365 steps\n",
      "14:58:16 [INFO] - [simulation.py > loop() > 153] - One step is 1 day(s)\n",
      "14:58:16 [INFO] - [simulation.py > loop() > 158] - Parameters : \n",
      " {\n",
      "    \"input_dir\": \"/home/sjuhel/Nextcloud/Thesis/Workbench/Data/BoARIO-testing/\",\n",
      "    \"output_dir\": \"/home/sjuhel/Nextcloud/Thesis/Workbench/Data/BoARIO-testing/\",\n",
      "    \"results_storage\": \"results\",\n",
      "    \"register_stocks\": true,\n",
      "    \"psi_param\": 0.85,\n",
      "    \"model_time_step\": 1,\n",
      "    \"timestep_dividing_factor\": 365,\n",
      "    \"inventory_restoration_time\": 9,\n",
      "    \"alpha_base\": 1.0,\n",
      "    \"alpha_max\": 1.25,\n",
      "    \"alpha_tau\": 365,\n",
      "    \"rebuild_tau\": 30,\n",
      "    \"n_timesteps\": 365,\n",
      "    \"min_duration\": 75,\n",
      "    \"impacted_region_base_production_toward_rebuilding\": 0.001,\n",
      "    \"row_base_production_toward_rebuilding\": 0.0,\n",
      "    \"mrio_params_file\": \"/home/sjuhel/Nextcloud/Thesis/Workbench/Data/Snakeruns/inputs/mrio_params.json\"\n",
      "}\n",
      "Processed: Step: 5  ~   1% ETA:   0:02:35                                      14:58:18 [INFO] - [simulation.py > shock() > 380] - Shocking model with new event\n",
      "14:58:18 [INFO] - [simulation.py > shock() > 381] - Affected regions are : ['FR']\n",
      "14:58:18 [INFO] - [simulation.py > shock() > 396] - Damages are 100.0 times 1000000 [unit (ie $/€/£)]\n",
      "Processed: Step: 110  ~  30% ETA:   0:04:13                                    15:00:06 [WARNING] - [simulation.py > loop() > 176] - Economy seems to have found an equilibrium\n",
      "                    - At step : 111\n",
      "                    \n",
      "15:00:06 [INFO] - [simulation.py > loop() > 214] - Loop complete\n",
      "Processed: Step: 365  ~ 100% Time:  0:01:50                                    \n"
     ]
    }
   ],
   "source": [
    "# ... add the list of events (just one here) to the model ...\n",
    "model.read_events_from_list([event])\n",
    "\n",
    "# ... and launch the simulation with :\n",
    "model.loop()"
   ]
  },
  {
   "cell_type": "code",
   "execution_count": 2,
   "id": "6be0e7bb-777e-476e-803e-fdbc5fd506c5",
   "metadata": {},
   "outputs": [
    {
     "name": "stderr",
     "output_type": "stream",
     "text": [
      "15:06:25 [INFO] - [indicators.py > __init__() > 42] - Instanciating indicators\n",
      "15:06:35 [INFO] - [indicators.py > save_dfs() > 346] - Saving computed dataframe to results folder\n",
      "15:07:08 [INFO] - [indicators.py > update_indicators() > 330] - (Re)computing all indicators\n"
     ]
    }
   ],
   "source": [
    "# Once the simulation is over we can compute some indicators :\n",
    "indic = Indicators.from_folder(\n",
    "                               pathlib.Path(params['output_dir'])/\"results\",\n",
    "                               indexes_file=pathlib.Path(params['output_dir'])/\"results\"/\"indexes.json\"\n",
    ")\n",
    "indic.update_indicators()\n"
   ]
  },
  {
   "cell_type": "code",
   "execution_count": 3,
   "id": "5bbfa327-9a09-49d2-be99-495f3c45410c",
   "metadata": {},
   "outputs": [
    {
     "name": "stderr",
     "output_type": "stream",
     "text": [
      "15:07:13 [INFO] - [indicators.py > write_indicators() > 340] - Writing indicators to json\n"
     ]
    }
   ],
   "source": [
    "indic.write_indicators()"
   ]
  },
  {
   "cell_type": "code",
   "execution_count": 11,
   "id": "30933d65-1c5f-4ce0-93c0-b995c60bc7b2",
   "metadata": {},
   "outputs": [
    {
     "data": {
      "text/plain": [
       "{('US',\n",
       "  'Public administration and defence; compulsory social security, Education and Health (75,80,85)'): -4567447.260237001,\n",
       " ('US',\n",
       "  'Financial intermediation, insurance and pension funding (65)'): -3781766.508188,\n",
       " ('US', 'Other business activities (74)'): -2849193.3932610005,\n",
       " ('CN',\n",
       "  'Public administration and defence; compulsory social security, Education and Health (75,80,85)'): -2302412.5523510007,\n",
       " ('CN', 'Construction (45)'): -2224837.0083870003}"
      ]
     },
     "execution_count": 11,
     "metadata": {},
     "output_type": "execute_result"
    }
   ],
   "source": [
    "df2=indic.prod_df.copy()\n",
    "prod_chg = df2 - df2.iloc[1,:]\n",
    "prod_chg = prod_chg.round(6)\n",
    "prod_chg_sect = prod_chg.sum()\n",
    "prod_chg_sect.sort_values(ascending=False,key=abs).head(5).to_dict()"
   ]
  }
 ],
 "metadata": {
  "kernelspec": {
   "display_name": "Python [conda env:ario3]",
   "language": "python",
   "name": "conda-env-ario3-filprofile"
  },
  "language_info": {
   "codemirror_mode": {
    "name": "ipython",
    "version": 3
   },
   "file_extension": ".py",
   "mimetype": "text/x-python",
   "name": "python",
   "nbconvert_exporter": "python",
   "pygments_lexer": "ipython3",
   "version": "3.8.5"
  }
 },
 "nbformat": 4,
 "nbformat_minor": 5
}
